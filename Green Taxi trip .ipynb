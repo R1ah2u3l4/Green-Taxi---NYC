{
 "cells": [
  {
   "cell_type": "code",
   "execution_count": 1,
   "id": "3beab4f7",
   "metadata": {},
   "outputs": [],
   "source": [
    "## Import the libraries\n",
    "import pandas as pd\n",
    "import numpy as np\n",
    "import matplotlib.pyplot as plt\n",
    "%matplotlib inline\n",
    "import seaborn as sns"
   ]
  },
  {
   "cell_type": "code",
   "execution_count": 2,
   "id": "de1d2943",
   "metadata": {},
   "outputs": [
    {
     "name": "stdout",
     "output_type": "stream",
     "text": [
      "C:\\Users\\hp\\Downloads\n"
     ]
    }
   ],
   "source": [
    "import io\n",
    "%cd \"C:\\Users\\hp\\Downloads\""
   ]
  },
  {
   "cell_type": "code",
   "execution_count": 3,
   "id": "8366cef7",
   "metadata": {},
   "outputs": [
    {
     "data": {
      "text/html": [
       "<div>\n",
       "<style scoped>\n",
       "    .dataframe tbody tr th:only-of-type {\n",
       "        vertical-align: middle;\n",
       "    }\n",
       "\n",
       "    .dataframe tbody tr th {\n",
       "        vertical-align: top;\n",
       "    }\n",
       "\n",
       "    .dataframe thead th {\n",
       "        text-align: right;\n",
       "    }\n",
       "</style>\n",
       "<table border=\"1\" class=\"dataframe\">\n",
       "  <thead>\n",
       "    <tr style=\"text-align: right;\">\n",
       "      <th></th>\n",
       "      <th>VendorID</th>\n",
       "      <th>lpep_pickup_datetime</th>\n",
       "      <th>lpep_dropoff_datetime</th>\n",
       "      <th>store_and_fwd_flag</th>\n",
       "      <th>RatecodeID</th>\n",
       "      <th>PULocationID</th>\n",
       "      <th>DOLocationID</th>\n",
       "      <th>passenger_count</th>\n",
       "      <th>trip_distance</th>\n",
       "      <th>fare_amount</th>\n",
       "      <th>extra</th>\n",
       "      <th>mta_tax</th>\n",
       "      <th>tip_amount</th>\n",
       "      <th>tolls_amount</th>\n",
       "      <th>ehail_fee</th>\n",
       "      <th>improvement_surcharge</th>\n",
       "      <th>total_amount</th>\n",
       "      <th>payment_type</th>\n",
       "      <th>trip_type</th>\n",
       "      <th>congestion_surcharge</th>\n",
       "    </tr>\n",
       "  </thead>\n",
       "  <tbody>\n",
       "    <tr>\n",
       "      <th>0</th>\n",
       "      <td>2</td>\n",
       "      <td>2023-12-01 00:27:37</td>\n",
       "      <td>2023-12-01 00:42:48</td>\n",
       "      <td>N</td>\n",
       "      <td>1.0</td>\n",
       "      <td>74</td>\n",
       "      <td>243</td>\n",
       "      <td>1.0</td>\n",
       "      <td>4.80</td>\n",
       "      <td>22.60</td>\n",
       "      <td>1.0</td>\n",
       "      <td>0.5</td>\n",
       "      <td>5.02</td>\n",
       "      <td>0.00</td>\n",
       "      <td>NaN</td>\n",
       "      <td>1.0</td>\n",
       "      <td>30.12</td>\n",
       "      <td>1.0</td>\n",
       "      <td>1.0</td>\n",
       "      <td>0.0</td>\n",
       "    </tr>\n",
       "    <tr>\n",
       "      <th>1</th>\n",
       "      <td>1</td>\n",
       "      <td>2023-12-01 00:42:57</td>\n",
       "      <td>2023-12-01 00:56:16</td>\n",
       "      <td>N</td>\n",
       "      <td>1.0</td>\n",
       "      <td>80</td>\n",
       "      <td>25</td>\n",
       "      <td>2.0</td>\n",
       "      <td>3.60</td>\n",
       "      <td>19.10</td>\n",
       "      <td>1.0</td>\n",
       "      <td>1.5</td>\n",
       "      <td>4.30</td>\n",
       "      <td>0.00</td>\n",
       "      <td>NaN</td>\n",
       "      <td>1.0</td>\n",
       "      <td>25.90</td>\n",
       "      <td>1.0</td>\n",
       "      <td>1.0</td>\n",
       "      <td>0.0</td>\n",
       "    </tr>\n",
       "    <tr>\n",
       "      <th>2</th>\n",
       "      <td>2</td>\n",
       "      <td>2023-12-01 00:29:51</td>\n",
       "      <td>2023-12-01 00:49:38</td>\n",
       "      <td>N</td>\n",
       "      <td>1.0</td>\n",
       "      <td>70</td>\n",
       "      <td>83</td>\n",
       "      <td>1.0</td>\n",
       "      <td>2.07</td>\n",
       "      <td>18.40</td>\n",
       "      <td>1.0</td>\n",
       "      <td>0.5</td>\n",
       "      <td>0.00</td>\n",
       "      <td>0.00</td>\n",
       "      <td>NaN</td>\n",
       "      <td>1.0</td>\n",
       "      <td>20.90</td>\n",
       "      <td>2.0</td>\n",
       "      <td>1.0</td>\n",
       "      <td>0.0</td>\n",
       "    </tr>\n",
       "    <tr>\n",
       "      <th>3</th>\n",
       "      <td>2</td>\n",
       "      <td>2023-12-01 00:09:57</td>\n",
       "      <td>2023-12-01 00:36:51</td>\n",
       "      <td>N</td>\n",
       "      <td>1.0</td>\n",
       "      <td>112</td>\n",
       "      <td>106</td>\n",
       "      <td>1.0</td>\n",
       "      <td>8.66</td>\n",
       "      <td>38.70</td>\n",
       "      <td>1.0</td>\n",
       "      <td>0.5</td>\n",
       "      <td>8.24</td>\n",
       "      <td>0.00</td>\n",
       "      <td>NaN</td>\n",
       "      <td>1.0</td>\n",
       "      <td>49.44</td>\n",
       "      <td>1.0</td>\n",
       "      <td>1.0</td>\n",
       "      <td>0.0</td>\n",
       "    </tr>\n",
       "    <tr>\n",
       "      <th>4</th>\n",
       "      <td>2</td>\n",
       "      <td>2023-12-01 01:02:41</td>\n",
       "      <td>2023-12-01 01:11:20</td>\n",
       "      <td>N</td>\n",
       "      <td>1.0</td>\n",
       "      <td>129</td>\n",
       "      <td>179</td>\n",
       "      <td>1.0</td>\n",
       "      <td>2.74</td>\n",
       "      <td>14.20</td>\n",
       "      <td>1.0</td>\n",
       "      <td>0.5</td>\n",
       "      <td>0.00</td>\n",
       "      <td>0.00</td>\n",
       "      <td>NaN</td>\n",
       "      <td>1.0</td>\n",
       "      <td>16.70</td>\n",
       "      <td>2.0</td>\n",
       "      <td>1.0</td>\n",
       "      <td>0.0</td>\n",
       "    </tr>\n",
       "    <tr>\n",
       "      <th>...</th>\n",
       "      <td>...</td>\n",
       "      <td>...</td>\n",
       "      <td>...</td>\n",
       "      <td>...</td>\n",
       "      <td>...</td>\n",
       "      <td>...</td>\n",
       "      <td>...</td>\n",
       "      <td>...</td>\n",
       "      <td>...</td>\n",
       "      <td>...</td>\n",
       "      <td>...</td>\n",
       "      <td>...</td>\n",
       "      <td>...</td>\n",
       "      <td>...</td>\n",
       "      <td>...</td>\n",
       "      <td>...</td>\n",
       "      <td>...</td>\n",
       "      <td>...</td>\n",
       "      <td>...</td>\n",
       "      <td>...</td>\n",
       "    </tr>\n",
       "    <tr>\n",
       "      <th>64210</th>\n",
       "      <td>2</td>\n",
       "      <td>2023-12-31 22:15:00</td>\n",
       "      <td>2023-12-31 22:35:00</td>\n",
       "      <td>None</td>\n",
       "      <td>NaN</td>\n",
       "      <td>97</td>\n",
       "      <td>37</td>\n",
       "      <td>NaN</td>\n",
       "      <td>9.87</td>\n",
       "      <td>20.28</td>\n",
       "      <td>0.0</td>\n",
       "      <td>0.0</td>\n",
       "      <td>4.26</td>\n",
       "      <td>0.00</td>\n",
       "      <td>NaN</td>\n",
       "      <td>1.0</td>\n",
       "      <td>25.54</td>\n",
       "      <td>NaN</td>\n",
       "      <td>NaN</td>\n",
       "      <td>NaN</td>\n",
       "    </tr>\n",
       "    <tr>\n",
       "      <th>64211</th>\n",
       "      <td>2</td>\n",
       "      <td>2023-12-31 23:17:00</td>\n",
       "      <td>2023-12-31 23:53:00</td>\n",
       "      <td>None</td>\n",
       "      <td>NaN</td>\n",
       "      <td>116</td>\n",
       "      <td>37</td>\n",
       "      <td>NaN</td>\n",
       "      <td>12.07</td>\n",
       "      <td>55.38</td>\n",
       "      <td>0.0</td>\n",
       "      <td>0.0</td>\n",
       "      <td>12.66</td>\n",
       "      <td>6.94</td>\n",
       "      <td>NaN</td>\n",
       "      <td>1.0</td>\n",
       "      <td>75.98</td>\n",
       "      <td>NaN</td>\n",
       "      <td>NaN</td>\n",
       "      <td>NaN</td>\n",
       "    </tr>\n",
       "    <tr>\n",
       "      <th>64212</th>\n",
       "      <td>2</td>\n",
       "      <td>2023-12-31 23:21:00</td>\n",
       "      <td>2023-12-31 23:33:00</td>\n",
       "      <td>None</td>\n",
       "      <td>NaN</td>\n",
       "      <td>65</td>\n",
       "      <td>80</td>\n",
       "      <td>NaN</td>\n",
       "      <td>3.84</td>\n",
       "      <td>16.93</td>\n",
       "      <td>0.0</td>\n",
       "      <td>0.0</td>\n",
       "      <td>3.59</td>\n",
       "      <td>0.00</td>\n",
       "      <td>NaN</td>\n",
       "      <td>1.0</td>\n",
       "      <td>21.52</td>\n",
       "      <td>NaN</td>\n",
       "      <td>NaN</td>\n",
       "      <td>NaN</td>\n",
       "    </tr>\n",
       "    <tr>\n",
       "      <th>64213</th>\n",
       "      <td>2</td>\n",
       "      <td>2023-12-31 23:15:00</td>\n",
       "      <td>2023-12-31 23:40:00</td>\n",
       "      <td>None</td>\n",
       "      <td>NaN</td>\n",
       "      <td>36</td>\n",
       "      <td>65</td>\n",
       "      <td>NaN</td>\n",
       "      <td>6.18</td>\n",
       "      <td>30.01</td>\n",
       "      <td>0.0</td>\n",
       "      <td>0.0</td>\n",
       "      <td>6.20</td>\n",
       "      <td>0.00</td>\n",
       "      <td>NaN</td>\n",
       "      <td>1.0</td>\n",
       "      <td>37.21</td>\n",
       "      <td>NaN</td>\n",
       "      <td>NaN</td>\n",
       "      <td>NaN</td>\n",
       "    </tr>\n",
       "    <tr>\n",
       "      <th>64214</th>\n",
       "      <td>2</td>\n",
       "      <td>2023-12-31 23:09:00</td>\n",
       "      <td>2023-12-31 23:27:00</td>\n",
       "      <td>None</td>\n",
       "      <td>NaN</td>\n",
       "      <td>61</td>\n",
       "      <td>232</td>\n",
       "      <td>NaN</td>\n",
       "      <td>4.31</td>\n",
       "      <td>23.36</td>\n",
       "      <td>0.0</td>\n",
       "      <td>0.0</td>\n",
       "      <td>4.07</td>\n",
       "      <td>0.00</td>\n",
       "      <td>NaN</td>\n",
       "      <td>1.0</td>\n",
       "      <td>31.18</td>\n",
       "      <td>NaN</td>\n",
       "      <td>NaN</td>\n",
       "      <td>NaN</td>\n",
       "    </tr>\n",
       "  </tbody>\n",
       "</table>\n",
       "<p>64215 rows × 20 columns</p>\n",
       "</div>"
      ],
      "text/plain": [
       "       VendorID lpep_pickup_datetime lpep_dropoff_datetime store_and_fwd_flag  \\\n",
       "0             2  2023-12-01 00:27:37   2023-12-01 00:42:48                  N   \n",
       "1             1  2023-12-01 00:42:57   2023-12-01 00:56:16                  N   \n",
       "2             2  2023-12-01 00:29:51   2023-12-01 00:49:38                  N   \n",
       "3             2  2023-12-01 00:09:57   2023-12-01 00:36:51                  N   \n",
       "4             2  2023-12-01 01:02:41   2023-12-01 01:11:20                  N   \n",
       "...         ...                  ...                   ...                ...   \n",
       "64210         2  2023-12-31 22:15:00   2023-12-31 22:35:00               None   \n",
       "64211         2  2023-12-31 23:17:00   2023-12-31 23:53:00               None   \n",
       "64212         2  2023-12-31 23:21:00   2023-12-31 23:33:00               None   \n",
       "64213         2  2023-12-31 23:15:00   2023-12-31 23:40:00               None   \n",
       "64214         2  2023-12-31 23:09:00   2023-12-31 23:27:00               None   \n",
       "\n",
       "       RatecodeID  PULocationID  DOLocationID  passenger_count  trip_distance  \\\n",
       "0             1.0            74           243              1.0           4.80   \n",
       "1             1.0            80            25              2.0           3.60   \n",
       "2             1.0            70            83              1.0           2.07   \n",
       "3             1.0           112           106              1.0           8.66   \n",
       "4             1.0           129           179              1.0           2.74   \n",
       "...           ...           ...           ...              ...            ...   \n",
       "64210         NaN            97            37              NaN           9.87   \n",
       "64211         NaN           116            37              NaN          12.07   \n",
       "64212         NaN            65            80              NaN           3.84   \n",
       "64213         NaN            36            65              NaN           6.18   \n",
       "64214         NaN            61           232              NaN           4.31   \n",
       "\n",
       "       fare_amount  extra  mta_tax  tip_amount  tolls_amount  ehail_fee  \\\n",
       "0            22.60    1.0      0.5        5.02          0.00        NaN   \n",
       "1            19.10    1.0      1.5        4.30          0.00        NaN   \n",
       "2            18.40    1.0      0.5        0.00          0.00        NaN   \n",
       "3            38.70    1.0      0.5        8.24          0.00        NaN   \n",
       "4            14.20    1.0      0.5        0.00          0.00        NaN   \n",
       "...            ...    ...      ...         ...           ...        ...   \n",
       "64210        20.28    0.0      0.0        4.26          0.00        NaN   \n",
       "64211        55.38    0.0      0.0       12.66          6.94        NaN   \n",
       "64212        16.93    0.0      0.0        3.59          0.00        NaN   \n",
       "64213        30.01    0.0      0.0        6.20          0.00        NaN   \n",
       "64214        23.36    0.0      0.0        4.07          0.00        NaN   \n",
       "\n",
       "       improvement_surcharge  total_amount  payment_type  trip_type  \\\n",
       "0                        1.0         30.12           1.0        1.0   \n",
       "1                        1.0         25.90           1.0        1.0   \n",
       "2                        1.0         20.90           2.0        1.0   \n",
       "3                        1.0         49.44           1.0        1.0   \n",
       "4                        1.0         16.70           2.0        1.0   \n",
       "...                      ...           ...           ...        ...   \n",
       "64210                    1.0         25.54           NaN        NaN   \n",
       "64211                    1.0         75.98           NaN        NaN   \n",
       "64212                    1.0         21.52           NaN        NaN   \n",
       "64213                    1.0         37.21           NaN        NaN   \n",
       "64214                    1.0         31.18           NaN        NaN   \n",
       "\n",
       "       congestion_surcharge  \n",
       "0                       0.0  \n",
       "1                       0.0  \n",
       "2                       0.0  \n",
       "3                       0.0  \n",
       "4                       0.0  \n",
       "...                     ...  \n",
       "64210                   NaN  \n",
       "64211                   NaN  \n",
       "64212                   NaN  \n",
       "64213                   NaN  \n",
       "64214                   NaN  \n",
       "\n",
       "[64215 rows x 20 columns]"
      ]
     },
     "execution_count": 3,
     "metadata": {},
     "output_type": "execute_result"
    }
   ],
   "source": [
    "greentaxi_df = pd.read_parquet(\"green_tripdata_2023-12.parquet\")\n",
    "greentaxi_df"
   ]
  },
  {
   "cell_type": "code",
   "execution_count": 4,
   "id": "505fd265",
   "metadata": {},
   "outputs": [
    {
     "data": {
      "text/plain": [
       "(64215, 20)"
      ]
     },
     "execution_count": 4,
     "metadata": {},
     "output_type": "execute_result"
    }
   ],
   "source": [
    "greentaxi_df.shape"
   ]
  },
  {
   "cell_type": "code",
   "execution_count": 5,
   "id": "17491d78",
   "metadata": {},
   "outputs": [
    {
     "name": "stdout",
     "output_type": "stream",
     "text": [
      "<class 'pandas.core.frame.DataFrame'>\n",
      "RangeIndex: 64215 entries, 0 to 64214\n",
      "Data columns (total 20 columns):\n",
      " #   Column                 Non-Null Count  Dtype         \n",
      "---  ------                 --------------  -----         \n",
      " 0   VendorID               64215 non-null  int32         \n",
      " 1   lpep_pickup_datetime   64215 non-null  datetime64[ns]\n",
      " 2   lpep_dropoff_datetime  64215 non-null  datetime64[ns]\n",
      " 3   store_and_fwd_flag     59303 non-null  object        \n",
      " 4   RatecodeID             59303 non-null  float64       \n",
      " 5   PULocationID           64215 non-null  int32         \n",
      " 6   DOLocationID           64215 non-null  int32         \n",
      " 7   passenger_count        59303 non-null  float64       \n",
      " 8   trip_distance          64215 non-null  float64       \n",
      " 9   fare_amount            64215 non-null  float64       \n",
      " 10  extra                  64215 non-null  float64       \n",
      " 11  mta_tax                64215 non-null  float64       \n",
      " 12  tip_amount             64215 non-null  float64       \n",
      " 13  tolls_amount           64215 non-null  float64       \n",
      " 14  ehail_fee              0 non-null      float64       \n",
      " 15  improvement_surcharge  64215 non-null  float64       \n",
      " 16  total_amount           64215 non-null  float64       \n",
      " 17  payment_type           59303 non-null  float64       \n",
      " 18  trip_type              59301 non-null  float64       \n",
      " 19  congestion_surcharge   59303 non-null  float64       \n",
      "dtypes: datetime64[ns](2), float64(14), int32(3), object(1)\n",
      "memory usage: 9.1+ MB\n"
     ]
    }
   ],
   "source": [
    "greentaxi_df.info()"
   ]
  },
  {
   "cell_type": "code",
   "execution_count": 6,
   "id": "75bcbe28",
   "metadata": {},
   "outputs": [],
   "source": [
    "## Remove Datatype in paranthesis for Column Name\n",
    "greentaxi_df.columns = greentaxi_df.columns.str.replace(r\"\\(.*\\) ?\", \"\")"
   ]
  },
  {
   "cell_type": "code",
   "execution_count": 7,
   "id": "9e33013d",
   "metadata": {},
   "outputs": [
    {
     "name": "stdout",
     "output_type": "stream",
     "text": [
      "<class 'pandas.core.frame.DataFrame'>\n",
      "RangeIndex: 64215 entries, 0 to 64214\n",
      "Data columns (total 20 columns):\n",
      " #   Column                 Non-Null Count  Dtype         \n",
      "---  ------                 --------------  -----         \n",
      " 0   VendorID               64215 non-null  int32         \n",
      " 1   lpep_pickup_datetime   64215 non-null  datetime64[ns]\n",
      " 2   lpep_dropoff_datetime  64215 non-null  datetime64[ns]\n",
      " 3   store_and_fwd_flag     59303 non-null  object        \n",
      " 4   RatecodeID             59303 non-null  float64       \n",
      " 5   PULocationID           64215 non-null  int32         \n",
      " 6   DOLocationID           64215 non-null  int32         \n",
      " 7   passenger_count        59303 non-null  float64       \n",
      " 8   trip_distance          64215 non-null  float64       \n",
      " 9   fare_amount            64215 non-null  float64       \n",
      " 10  extra                  64215 non-null  float64       \n",
      " 11  mta_tax                64215 non-null  float64       \n",
      " 12  tip_amount             64215 non-null  float64       \n",
      " 13  tolls_amount           64215 non-null  float64       \n",
      " 14  ehail_fee              0 non-null      float64       \n",
      " 15  improvement_surcharge  64215 non-null  float64       \n",
      " 16  total_amount           64215 non-null  float64       \n",
      " 17  payment_type           59303 non-null  float64       \n",
      " 18  trip_type              59301 non-null  float64       \n",
      " 19  congestion_surcharge   59303 non-null  float64       \n",
      "dtypes: datetime64[ns](2), float64(14), int32(3), object(1)\n",
      "memory usage: 9.1+ MB\n"
     ]
    }
   ],
   "source": [
    "greentaxi_df.info()"
   ]
  },
  {
   "cell_type": "code",
   "execution_count": 8,
   "id": "0031d515",
   "metadata": {},
   "outputs": [
    {
     "data": {
      "text/plain": [
       "ehail_fee                64215\n",
       "trip_type                 4914\n",
       "congestion_surcharge      4912\n",
       "store_and_fwd_flag        4912\n",
       "RatecodeID                4912\n",
       "payment_type              4912\n",
       "passenger_count           4912\n",
       "tip_amount                   0\n",
       "total_amount                 0\n",
       "improvement_surcharge        0\n",
       "tolls_amount                 0\n",
       "VendorID                     0\n",
       "mta_tax                      0\n",
       "lpep_pickup_datetime         0\n",
       "fare_amount                  0\n",
       "trip_distance                0\n",
       "DOLocationID                 0\n",
       "PULocationID                 0\n",
       "lpep_dropoff_datetime        0\n",
       "extra                        0\n",
       "dtype: int64"
      ]
     },
     "execution_count": 8,
     "metadata": {},
     "output_type": "execute_result"
    }
   ],
   "source": [
    "## checking missing values in data\n",
    "greentaxi_df.isnull().sum().sort_values(ascending=False)"
   ]
  },
  {
   "cell_type": "code",
   "execution_count": 9,
   "id": "247e4313",
   "metadata": {},
   "outputs": [
    {
     "data": {
      "text/plain": [
       "trip_type\n",
       "1.0    57165\n",
       "NaN     4914\n",
       "2.0     2136\n",
       "Name: count, dtype: int64"
      ]
     },
     "execution_count": 9,
     "metadata": {},
     "output_type": "execute_result"
    }
   ],
   "source": [
    "greentaxi_df.trip_type.value_counts(dropna=False)"
   ]
  },
  {
   "cell_type": "code",
   "execution_count": 10,
   "id": "09660f62",
   "metadata": {},
   "outputs": [],
   "source": [
    "greentaxi_df.trip_type = greentaxi_df.trip_type.fillna(1.0)"
   ]
  },
  {
   "cell_type": "code",
   "execution_count": 11,
   "id": "e861c375",
   "metadata": {},
   "outputs": [
    {
     "data": {
      "text/plain": [
       "count    59303.000000\n",
       "mean         0.748651\n",
       "std          1.224097\n",
       "min         -2.750000\n",
       "25%          0.000000\n",
       "50%          0.000000\n",
       "75%          2.750000\n",
       "max          2.750000\n",
       "Name: congestion_surcharge, dtype: float64"
      ]
     },
     "execution_count": 11,
     "metadata": {},
     "output_type": "execute_result"
    }
   ],
   "source": [
    "greentaxi_df.congestion_surcharge.describe()"
   ]
  },
  {
   "cell_type": "code",
   "execution_count": 12,
   "id": "4cf9df52",
   "metadata": {},
   "outputs": [],
   "source": [
    "greentaxi_df.congestion_surcharge = greentaxi_df.congestion_surcharge.fillna(0)"
   ]
  },
  {
   "cell_type": "code",
   "execution_count": 13,
   "id": "d775aaa6",
   "metadata": {},
   "outputs": [
    {
     "data": {
      "text/plain": [
       "store_and_fwd_flag\n",
       "N       59148\n",
       "None     4912\n",
       "Y         155\n",
       "Name: count, dtype: int64"
      ]
     },
     "execution_count": 13,
     "metadata": {},
     "output_type": "execute_result"
    }
   ],
   "source": [
    "greentaxi_df.store_and_fwd_flag.value_counts(dropna=False)"
   ]
  },
  {
   "cell_type": "code",
   "execution_count": 14,
   "id": "6326bde4",
   "metadata": {},
   "outputs": [],
   "source": [
    "greentaxi_df.store_and_fwd_flag = greentaxi_df.store_and_fwd_flag.fillna('N')"
   ]
  },
  {
   "cell_type": "code",
   "execution_count": 15,
   "id": "971e6dd0",
   "metadata": {},
   "outputs": [
    {
     "data": {
      "text/plain": [
       "payment_type\n",
       "1.0    39722\n",
       "2.0    18970\n",
       "NaN     4912\n",
       "3.0      460\n",
       "4.0      151\n",
       "Name: count, dtype: int64"
      ]
     },
     "execution_count": 15,
     "metadata": {},
     "output_type": "execute_result"
    }
   ],
   "source": [
    "greentaxi_df.payment_type.value_counts(dropna=False)"
   ]
  },
  {
   "cell_type": "code",
   "execution_count": 16,
   "id": "154d40b8",
   "metadata": {},
   "outputs": [],
   "source": [
    "greentaxi_df.payment_type = greentaxi_df.payment_type.fillna(1.0)"
   ]
  },
  {
   "cell_type": "code",
   "execution_count": 17,
   "id": "ed8cad26",
   "metadata": {},
   "outputs": [
    {
     "data": {
      "text/plain": [
       "ehail_fee                64215\n",
       "RatecodeID                4912\n",
       "passenger_count           4912\n",
       "VendorID                     0\n",
       "mta_tax                      0\n",
       "trip_type                    0\n",
       "payment_type                 0\n",
       "total_amount                 0\n",
       "improvement_surcharge        0\n",
       "tolls_amount                 0\n",
       "tip_amount                   0\n",
       "extra                        0\n",
       "lpep_pickup_datetime         0\n",
       "fare_amount                  0\n",
       "trip_distance                0\n",
       "DOLocationID                 0\n",
       "PULocationID                 0\n",
       "store_and_fwd_flag           0\n",
       "lpep_dropoff_datetime        0\n",
       "congestion_surcharge         0\n",
       "dtype: int64"
      ]
     },
     "execution_count": 17,
     "metadata": {},
     "output_type": "execute_result"
    }
   ],
   "source": [
    "greentaxi_df.isnull().sum().sort_values(ascending=False)"
   ]
  },
  {
   "cell_type": "code",
   "execution_count": 18,
   "id": "c51085d3",
   "metadata": {},
   "outputs": [
    {
     "data": {
      "text/plain": [
       "count    59303.000000\n",
       "mean         1.297354\n",
       "std          0.939167\n",
       "min          0.000000\n",
       "25%          1.000000\n",
       "50%          1.000000\n",
       "75%          1.000000\n",
       "max          7.000000\n",
       "Name: passenger_count, dtype: float64"
      ]
     },
     "execution_count": 18,
     "metadata": {},
     "output_type": "execute_result"
    }
   ],
   "source": [
    "greentaxi_df.passenger_count.describe()"
   ]
  },
  {
   "cell_type": "code",
   "execution_count": 19,
   "id": "d1457dcc",
   "metadata": {},
   "outputs": [],
   "source": [
    "greentaxi_df.passenger_count = greentaxi_df.passenger_count.fillna(1.0)"
   ]
  },
  {
   "cell_type": "code",
   "execution_count": 20,
   "id": "18b8b26a",
   "metadata": {},
   "outputs": [
    {
     "data": {
      "text/plain": [
       "RatecodeID\n",
       "1.0     56704\n",
       "NaN      4912\n",
       "5.0      2317\n",
       "2.0       182\n",
       "4.0        63\n",
       "3.0        33\n",
       "99.0        2\n",
       "6.0         2\n",
       "Name: count, dtype: int64"
      ]
     },
     "execution_count": 20,
     "metadata": {},
     "output_type": "execute_result"
    }
   ],
   "source": [
    "greentaxi_df.RatecodeID.value_counts(dropna=False)"
   ]
  },
  {
   "cell_type": "code",
   "execution_count": 21,
   "id": "b26c13cd",
   "metadata": {},
   "outputs": [],
   "source": [
    "greentaxi_df.RatecodeID = greentaxi_df.RatecodeID.fillna(1.0)"
   ]
  },
  {
   "cell_type": "code",
   "execution_count": 22,
   "id": "3b191559",
   "metadata": {},
   "outputs": [
    {
     "data": {
      "text/html": [
       "<div>\n",
       "<style scoped>\n",
       "    .dataframe tbody tr th:only-of-type {\n",
       "        vertical-align: middle;\n",
       "    }\n",
       "\n",
       "    .dataframe tbody tr th {\n",
       "        vertical-align: top;\n",
       "    }\n",
       "\n",
       "    .dataframe thead th {\n",
       "        text-align: right;\n",
       "    }\n",
       "</style>\n",
       "<table border=\"1\" class=\"dataframe\">\n",
       "  <thead>\n",
       "    <tr style=\"text-align: right;\">\n",
       "      <th></th>\n",
       "      <th>VendorID</th>\n",
       "      <th>lpep_pickup_datetime</th>\n",
       "      <th>lpep_dropoff_datetime</th>\n",
       "      <th>store_and_fwd_flag</th>\n",
       "      <th>RatecodeID</th>\n",
       "      <th>PULocationID</th>\n",
       "      <th>DOLocationID</th>\n",
       "      <th>passenger_count</th>\n",
       "      <th>trip_distance</th>\n",
       "      <th>fare_amount</th>\n",
       "      <th>extra</th>\n",
       "      <th>mta_tax</th>\n",
       "      <th>tip_amount</th>\n",
       "      <th>tolls_amount</th>\n",
       "      <th>ehail_fee</th>\n",
       "      <th>improvement_surcharge</th>\n",
       "      <th>total_amount</th>\n",
       "      <th>payment_type</th>\n",
       "      <th>trip_type</th>\n",
       "      <th>congestion_surcharge</th>\n",
       "    </tr>\n",
       "  </thead>\n",
       "  <tbody>\n",
       "    <tr>\n",
       "      <th>0</th>\n",
       "      <td>2</td>\n",
       "      <td>2023-12-01 00:27:37</td>\n",
       "      <td>2023-12-01 00:42:48</td>\n",
       "      <td>N</td>\n",
       "      <td>1.0</td>\n",
       "      <td>74</td>\n",
       "      <td>243</td>\n",
       "      <td>1.0</td>\n",
       "      <td>4.80</td>\n",
       "      <td>22.6</td>\n",
       "      <td>1.0</td>\n",
       "      <td>0.5</td>\n",
       "      <td>5.02</td>\n",
       "      <td>0.0</td>\n",
       "      <td>NaN</td>\n",
       "      <td>1.0</td>\n",
       "      <td>30.12</td>\n",
       "      <td>1.0</td>\n",
       "      <td>1.0</td>\n",
       "      <td>0.0</td>\n",
       "    </tr>\n",
       "    <tr>\n",
       "      <th>1</th>\n",
       "      <td>1</td>\n",
       "      <td>2023-12-01 00:42:57</td>\n",
       "      <td>2023-12-01 00:56:16</td>\n",
       "      <td>N</td>\n",
       "      <td>1.0</td>\n",
       "      <td>80</td>\n",
       "      <td>25</td>\n",
       "      <td>2.0</td>\n",
       "      <td>3.60</td>\n",
       "      <td>19.1</td>\n",
       "      <td>1.0</td>\n",
       "      <td>1.5</td>\n",
       "      <td>4.30</td>\n",
       "      <td>0.0</td>\n",
       "      <td>NaN</td>\n",
       "      <td>1.0</td>\n",
       "      <td>25.90</td>\n",
       "      <td>1.0</td>\n",
       "      <td>1.0</td>\n",
       "      <td>0.0</td>\n",
       "    </tr>\n",
       "    <tr>\n",
       "      <th>2</th>\n",
       "      <td>2</td>\n",
       "      <td>2023-12-01 00:29:51</td>\n",
       "      <td>2023-12-01 00:49:38</td>\n",
       "      <td>N</td>\n",
       "      <td>1.0</td>\n",
       "      <td>70</td>\n",
       "      <td>83</td>\n",
       "      <td>1.0</td>\n",
       "      <td>2.07</td>\n",
       "      <td>18.4</td>\n",
       "      <td>1.0</td>\n",
       "      <td>0.5</td>\n",
       "      <td>0.00</td>\n",
       "      <td>0.0</td>\n",
       "      <td>NaN</td>\n",
       "      <td>1.0</td>\n",
       "      <td>20.90</td>\n",
       "      <td>2.0</td>\n",
       "      <td>1.0</td>\n",
       "      <td>0.0</td>\n",
       "    </tr>\n",
       "    <tr>\n",
       "      <th>3</th>\n",
       "      <td>2</td>\n",
       "      <td>2023-12-01 00:09:57</td>\n",
       "      <td>2023-12-01 00:36:51</td>\n",
       "      <td>N</td>\n",
       "      <td>1.0</td>\n",
       "      <td>112</td>\n",
       "      <td>106</td>\n",
       "      <td>1.0</td>\n",
       "      <td>8.66</td>\n",
       "      <td>38.7</td>\n",
       "      <td>1.0</td>\n",
       "      <td>0.5</td>\n",
       "      <td>8.24</td>\n",
       "      <td>0.0</td>\n",
       "      <td>NaN</td>\n",
       "      <td>1.0</td>\n",
       "      <td>49.44</td>\n",
       "      <td>1.0</td>\n",
       "      <td>1.0</td>\n",
       "      <td>0.0</td>\n",
       "    </tr>\n",
       "    <tr>\n",
       "      <th>4</th>\n",
       "      <td>2</td>\n",
       "      <td>2023-12-01 01:02:41</td>\n",
       "      <td>2023-12-01 01:11:20</td>\n",
       "      <td>N</td>\n",
       "      <td>1.0</td>\n",
       "      <td>129</td>\n",
       "      <td>179</td>\n",
       "      <td>1.0</td>\n",
       "      <td>2.74</td>\n",
       "      <td>14.2</td>\n",
       "      <td>1.0</td>\n",
       "      <td>0.5</td>\n",
       "      <td>0.00</td>\n",
       "      <td>0.0</td>\n",
       "      <td>NaN</td>\n",
       "      <td>1.0</td>\n",
       "      <td>16.70</td>\n",
       "      <td>2.0</td>\n",
       "      <td>1.0</td>\n",
       "      <td>0.0</td>\n",
       "    </tr>\n",
       "  </tbody>\n",
       "</table>\n",
       "</div>"
      ],
      "text/plain": [
       "   VendorID lpep_pickup_datetime lpep_dropoff_datetime store_and_fwd_flag  \\\n",
       "0         2  2023-12-01 00:27:37   2023-12-01 00:42:48                  N   \n",
       "1         1  2023-12-01 00:42:57   2023-12-01 00:56:16                  N   \n",
       "2         2  2023-12-01 00:29:51   2023-12-01 00:49:38                  N   \n",
       "3         2  2023-12-01 00:09:57   2023-12-01 00:36:51                  N   \n",
       "4         2  2023-12-01 01:02:41   2023-12-01 01:11:20                  N   \n",
       "\n",
       "   RatecodeID  PULocationID  DOLocationID  passenger_count  trip_distance  \\\n",
       "0         1.0            74           243              1.0           4.80   \n",
       "1         1.0            80            25              2.0           3.60   \n",
       "2         1.0            70            83              1.0           2.07   \n",
       "3         1.0           112           106              1.0           8.66   \n",
       "4         1.0           129           179              1.0           2.74   \n",
       "\n",
       "   fare_amount  extra  mta_tax  tip_amount  tolls_amount  ehail_fee  \\\n",
       "0         22.6    1.0      0.5        5.02           0.0        NaN   \n",
       "1         19.1    1.0      1.5        4.30           0.0        NaN   \n",
       "2         18.4    1.0      0.5        0.00           0.0        NaN   \n",
       "3         38.7    1.0      0.5        8.24           0.0        NaN   \n",
       "4         14.2    1.0      0.5        0.00           0.0        NaN   \n",
       "\n",
       "   improvement_surcharge  total_amount  payment_type  trip_type  \\\n",
       "0                    1.0         30.12           1.0        1.0   \n",
       "1                    1.0         25.90           1.0        1.0   \n",
       "2                    1.0         20.90           2.0        1.0   \n",
       "3                    1.0         49.44           1.0        1.0   \n",
       "4                    1.0         16.70           2.0        1.0   \n",
       "\n",
       "   congestion_surcharge  \n",
       "0                   0.0  \n",
       "1                   0.0  \n",
       "2                   0.0  \n",
       "3                   0.0  \n",
       "4                   0.0  "
      ]
     },
     "execution_count": 22,
     "metadata": {},
     "output_type": "execute_result"
    }
   ],
   "source": [
    "greentaxi_df.head()"
   ]
  },
  {
   "cell_type": "code",
   "execution_count": 23,
   "id": "35bd3917",
   "metadata": {},
   "outputs": [
    {
     "data": {
      "text/plain": [
       "VendorID                     0\n",
       "lpep_pickup_datetime         0\n",
       "lpep_dropoff_datetime        0\n",
       "store_and_fwd_flag           0\n",
       "RatecodeID                   0\n",
       "PULocationID                 0\n",
       "DOLocationID                 0\n",
       "passenger_count              0\n",
       "trip_distance                0\n",
       "fare_amount                  0\n",
       "extra                        0\n",
       "mta_tax                      0\n",
       "tip_amount                   0\n",
       "tolls_amount                 0\n",
       "ehail_fee                64215\n",
       "improvement_surcharge        0\n",
       "total_amount                 0\n",
       "payment_type                 0\n",
       "trip_type                    0\n",
       "congestion_surcharge         0\n",
       "dtype: int64"
      ]
     },
     "execution_count": 23,
     "metadata": {},
     "output_type": "execute_result"
    }
   ],
   "source": [
    "greentaxi_df.isnull().sum()"
   ]
  },
  {
   "cell_type": "code",
   "execution_count": 24,
   "id": "4d79db0c",
   "metadata": {},
   "outputs": [],
   "source": [
    "greentaxi_df.rename(columns={\"lpep_pickup_datetime\" : \"pickup_time\", \"lpep_dropoff_datetime\" : \"dropoff_time\"}, inplace=True)"
   ]
  },
  {
   "cell_type": "code",
   "execution_count": 25,
   "id": "69d89b6d",
   "metadata": {},
   "outputs": [
    {
     "data": {
      "text/html": [
       "<div>\n",
       "<style scoped>\n",
       "    .dataframe tbody tr th:only-of-type {\n",
       "        vertical-align: middle;\n",
       "    }\n",
       "\n",
       "    .dataframe tbody tr th {\n",
       "        vertical-align: top;\n",
       "    }\n",
       "\n",
       "    .dataframe thead th {\n",
       "        text-align: right;\n",
       "    }\n",
       "</style>\n",
       "<table border=\"1\" class=\"dataframe\">\n",
       "  <thead>\n",
       "    <tr style=\"text-align: right;\">\n",
       "      <th></th>\n",
       "      <th>VendorID</th>\n",
       "      <th>pickup_time</th>\n",
       "      <th>dropoff_time</th>\n",
       "      <th>store_and_fwd_flag</th>\n",
       "      <th>RatecodeID</th>\n",
       "      <th>PULocationID</th>\n",
       "      <th>DOLocationID</th>\n",
       "      <th>passenger_count</th>\n",
       "      <th>trip_distance</th>\n",
       "      <th>fare_amount</th>\n",
       "      <th>extra</th>\n",
       "      <th>mta_tax</th>\n",
       "      <th>tip_amount</th>\n",
       "      <th>tolls_amount</th>\n",
       "      <th>ehail_fee</th>\n",
       "      <th>improvement_surcharge</th>\n",
       "      <th>total_amount</th>\n",
       "      <th>payment_type</th>\n",
       "      <th>trip_type</th>\n",
       "      <th>congestion_surcharge</th>\n",
       "    </tr>\n",
       "  </thead>\n",
       "  <tbody>\n",
       "    <tr>\n",
       "      <th>0</th>\n",
       "      <td>2</td>\n",
       "      <td>2023-12-01 00:27:37</td>\n",
       "      <td>2023-12-01 00:42:48</td>\n",
       "      <td>N</td>\n",
       "      <td>1.0</td>\n",
       "      <td>74</td>\n",
       "      <td>243</td>\n",
       "      <td>1.0</td>\n",
       "      <td>4.80</td>\n",
       "      <td>22.60</td>\n",
       "      <td>1.0</td>\n",
       "      <td>0.5</td>\n",
       "      <td>5.02</td>\n",
       "      <td>0.00</td>\n",
       "      <td>NaN</td>\n",
       "      <td>1.0</td>\n",
       "      <td>30.12</td>\n",
       "      <td>1.0</td>\n",
       "      <td>1.0</td>\n",
       "      <td>0.0</td>\n",
       "    </tr>\n",
       "    <tr>\n",
       "      <th>1</th>\n",
       "      <td>1</td>\n",
       "      <td>2023-12-01 00:42:57</td>\n",
       "      <td>2023-12-01 00:56:16</td>\n",
       "      <td>N</td>\n",
       "      <td>1.0</td>\n",
       "      <td>80</td>\n",
       "      <td>25</td>\n",
       "      <td>2.0</td>\n",
       "      <td>3.60</td>\n",
       "      <td>19.10</td>\n",
       "      <td>1.0</td>\n",
       "      <td>1.5</td>\n",
       "      <td>4.30</td>\n",
       "      <td>0.00</td>\n",
       "      <td>NaN</td>\n",
       "      <td>1.0</td>\n",
       "      <td>25.90</td>\n",
       "      <td>1.0</td>\n",
       "      <td>1.0</td>\n",
       "      <td>0.0</td>\n",
       "    </tr>\n",
       "    <tr>\n",
       "      <th>2</th>\n",
       "      <td>2</td>\n",
       "      <td>2023-12-01 00:29:51</td>\n",
       "      <td>2023-12-01 00:49:38</td>\n",
       "      <td>N</td>\n",
       "      <td>1.0</td>\n",
       "      <td>70</td>\n",
       "      <td>83</td>\n",
       "      <td>1.0</td>\n",
       "      <td>2.07</td>\n",
       "      <td>18.40</td>\n",
       "      <td>1.0</td>\n",
       "      <td>0.5</td>\n",
       "      <td>0.00</td>\n",
       "      <td>0.00</td>\n",
       "      <td>NaN</td>\n",
       "      <td>1.0</td>\n",
       "      <td>20.90</td>\n",
       "      <td>2.0</td>\n",
       "      <td>1.0</td>\n",
       "      <td>0.0</td>\n",
       "    </tr>\n",
       "    <tr>\n",
       "      <th>3</th>\n",
       "      <td>2</td>\n",
       "      <td>2023-12-01 00:09:57</td>\n",
       "      <td>2023-12-01 00:36:51</td>\n",
       "      <td>N</td>\n",
       "      <td>1.0</td>\n",
       "      <td>112</td>\n",
       "      <td>106</td>\n",
       "      <td>1.0</td>\n",
       "      <td>8.66</td>\n",
       "      <td>38.70</td>\n",
       "      <td>1.0</td>\n",
       "      <td>0.5</td>\n",
       "      <td>8.24</td>\n",
       "      <td>0.00</td>\n",
       "      <td>NaN</td>\n",
       "      <td>1.0</td>\n",
       "      <td>49.44</td>\n",
       "      <td>1.0</td>\n",
       "      <td>1.0</td>\n",
       "      <td>0.0</td>\n",
       "    </tr>\n",
       "    <tr>\n",
       "      <th>4</th>\n",
       "      <td>2</td>\n",
       "      <td>2023-12-01 01:02:41</td>\n",
       "      <td>2023-12-01 01:11:20</td>\n",
       "      <td>N</td>\n",
       "      <td>1.0</td>\n",
       "      <td>129</td>\n",
       "      <td>179</td>\n",
       "      <td>1.0</td>\n",
       "      <td>2.74</td>\n",
       "      <td>14.20</td>\n",
       "      <td>1.0</td>\n",
       "      <td>0.5</td>\n",
       "      <td>0.00</td>\n",
       "      <td>0.00</td>\n",
       "      <td>NaN</td>\n",
       "      <td>1.0</td>\n",
       "      <td>16.70</td>\n",
       "      <td>2.0</td>\n",
       "      <td>1.0</td>\n",
       "      <td>0.0</td>\n",
       "    </tr>\n",
       "    <tr>\n",
       "      <th>...</th>\n",
       "      <td>...</td>\n",
       "      <td>...</td>\n",
       "      <td>...</td>\n",
       "      <td>...</td>\n",
       "      <td>...</td>\n",
       "      <td>...</td>\n",
       "      <td>...</td>\n",
       "      <td>...</td>\n",
       "      <td>...</td>\n",
       "      <td>...</td>\n",
       "      <td>...</td>\n",
       "      <td>...</td>\n",
       "      <td>...</td>\n",
       "      <td>...</td>\n",
       "      <td>...</td>\n",
       "      <td>...</td>\n",
       "      <td>...</td>\n",
       "      <td>...</td>\n",
       "      <td>...</td>\n",
       "      <td>...</td>\n",
       "    </tr>\n",
       "    <tr>\n",
       "      <th>64210</th>\n",
       "      <td>2</td>\n",
       "      <td>2023-12-31 22:15:00</td>\n",
       "      <td>2023-12-31 22:35:00</td>\n",
       "      <td>N</td>\n",
       "      <td>1.0</td>\n",
       "      <td>97</td>\n",
       "      <td>37</td>\n",
       "      <td>1.0</td>\n",
       "      <td>9.87</td>\n",
       "      <td>20.28</td>\n",
       "      <td>0.0</td>\n",
       "      <td>0.0</td>\n",
       "      <td>4.26</td>\n",
       "      <td>0.00</td>\n",
       "      <td>NaN</td>\n",
       "      <td>1.0</td>\n",
       "      <td>25.54</td>\n",
       "      <td>1.0</td>\n",
       "      <td>1.0</td>\n",
       "      <td>0.0</td>\n",
       "    </tr>\n",
       "    <tr>\n",
       "      <th>64211</th>\n",
       "      <td>2</td>\n",
       "      <td>2023-12-31 23:17:00</td>\n",
       "      <td>2023-12-31 23:53:00</td>\n",
       "      <td>N</td>\n",
       "      <td>1.0</td>\n",
       "      <td>116</td>\n",
       "      <td>37</td>\n",
       "      <td>1.0</td>\n",
       "      <td>12.07</td>\n",
       "      <td>55.38</td>\n",
       "      <td>0.0</td>\n",
       "      <td>0.0</td>\n",
       "      <td>12.66</td>\n",
       "      <td>6.94</td>\n",
       "      <td>NaN</td>\n",
       "      <td>1.0</td>\n",
       "      <td>75.98</td>\n",
       "      <td>1.0</td>\n",
       "      <td>1.0</td>\n",
       "      <td>0.0</td>\n",
       "    </tr>\n",
       "    <tr>\n",
       "      <th>64212</th>\n",
       "      <td>2</td>\n",
       "      <td>2023-12-31 23:21:00</td>\n",
       "      <td>2023-12-31 23:33:00</td>\n",
       "      <td>N</td>\n",
       "      <td>1.0</td>\n",
       "      <td>65</td>\n",
       "      <td>80</td>\n",
       "      <td>1.0</td>\n",
       "      <td>3.84</td>\n",
       "      <td>16.93</td>\n",
       "      <td>0.0</td>\n",
       "      <td>0.0</td>\n",
       "      <td>3.59</td>\n",
       "      <td>0.00</td>\n",
       "      <td>NaN</td>\n",
       "      <td>1.0</td>\n",
       "      <td>21.52</td>\n",
       "      <td>1.0</td>\n",
       "      <td>1.0</td>\n",
       "      <td>0.0</td>\n",
       "    </tr>\n",
       "    <tr>\n",
       "      <th>64213</th>\n",
       "      <td>2</td>\n",
       "      <td>2023-12-31 23:15:00</td>\n",
       "      <td>2023-12-31 23:40:00</td>\n",
       "      <td>N</td>\n",
       "      <td>1.0</td>\n",
       "      <td>36</td>\n",
       "      <td>65</td>\n",
       "      <td>1.0</td>\n",
       "      <td>6.18</td>\n",
       "      <td>30.01</td>\n",
       "      <td>0.0</td>\n",
       "      <td>0.0</td>\n",
       "      <td>6.20</td>\n",
       "      <td>0.00</td>\n",
       "      <td>NaN</td>\n",
       "      <td>1.0</td>\n",
       "      <td>37.21</td>\n",
       "      <td>1.0</td>\n",
       "      <td>1.0</td>\n",
       "      <td>0.0</td>\n",
       "    </tr>\n",
       "    <tr>\n",
       "      <th>64214</th>\n",
       "      <td>2</td>\n",
       "      <td>2023-12-31 23:09:00</td>\n",
       "      <td>2023-12-31 23:27:00</td>\n",
       "      <td>N</td>\n",
       "      <td>1.0</td>\n",
       "      <td>61</td>\n",
       "      <td>232</td>\n",
       "      <td>1.0</td>\n",
       "      <td>4.31</td>\n",
       "      <td>23.36</td>\n",
       "      <td>0.0</td>\n",
       "      <td>0.0</td>\n",
       "      <td>4.07</td>\n",
       "      <td>0.00</td>\n",
       "      <td>NaN</td>\n",
       "      <td>1.0</td>\n",
       "      <td>31.18</td>\n",
       "      <td>1.0</td>\n",
       "      <td>1.0</td>\n",
       "      <td>0.0</td>\n",
       "    </tr>\n",
       "  </tbody>\n",
       "</table>\n",
       "<p>64215 rows × 20 columns</p>\n",
       "</div>"
      ],
      "text/plain": [
       "       VendorID         pickup_time        dropoff_time store_and_fwd_flag  \\\n",
       "0             2 2023-12-01 00:27:37 2023-12-01 00:42:48                  N   \n",
       "1             1 2023-12-01 00:42:57 2023-12-01 00:56:16                  N   \n",
       "2             2 2023-12-01 00:29:51 2023-12-01 00:49:38                  N   \n",
       "3             2 2023-12-01 00:09:57 2023-12-01 00:36:51                  N   \n",
       "4             2 2023-12-01 01:02:41 2023-12-01 01:11:20                  N   \n",
       "...         ...                 ...                 ...                ...   \n",
       "64210         2 2023-12-31 22:15:00 2023-12-31 22:35:00                  N   \n",
       "64211         2 2023-12-31 23:17:00 2023-12-31 23:53:00                  N   \n",
       "64212         2 2023-12-31 23:21:00 2023-12-31 23:33:00                  N   \n",
       "64213         2 2023-12-31 23:15:00 2023-12-31 23:40:00                  N   \n",
       "64214         2 2023-12-31 23:09:00 2023-12-31 23:27:00                  N   \n",
       "\n",
       "       RatecodeID  PULocationID  DOLocationID  passenger_count  trip_distance  \\\n",
       "0             1.0            74           243              1.0           4.80   \n",
       "1             1.0            80            25              2.0           3.60   \n",
       "2             1.0            70            83              1.0           2.07   \n",
       "3             1.0           112           106              1.0           8.66   \n",
       "4             1.0           129           179              1.0           2.74   \n",
       "...           ...           ...           ...              ...            ...   \n",
       "64210         1.0            97            37              1.0           9.87   \n",
       "64211         1.0           116            37              1.0          12.07   \n",
       "64212         1.0            65            80              1.0           3.84   \n",
       "64213         1.0            36            65              1.0           6.18   \n",
       "64214         1.0            61           232              1.0           4.31   \n",
       "\n",
       "       fare_amount  extra  mta_tax  tip_amount  tolls_amount  ehail_fee  \\\n",
       "0            22.60    1.0      0.5        5.02          0.00        NaN   \n",
       "1            19.10    1.0      1.5        4.30          0.00        NaN   \n",
       "2            18.40    1.0      0.5        0.00          0.00        NaN   \n",
       "3            38.70    1.0      0.5        8.24          0.00        NaN   \n",
       "4            14.20    1.0      0.5        0.00          0.00        NaN   \n",
       "...            ...    ...      ...         ...           ...        ...   \n",
       "64210        20.28    0.0      0.0        4.26          0.00        NaN   \n",
       "64211        55.38    0.0      0.0       12.66          6.94        NaN   \n",
       "64212        16.93    0.0      0.0        3.59          0.00        NaN   \n",
       "64213        30.01    0.0      0.0        6.20          0.00        NaN   \n",
       "64214        23.36    0.0      0.0        4.07          0.00        NaN   \n",
       "\n",
       "       improvement_surcharge  total_amount  payment_type  trip_type  \\\n",
       "0                        1.0         30.12           1.0        1.0   \n",
       "1                        1.0         25.90           1.0        1.0   \n",
       "2                        1.0         20.90           2.0        1.0   \n",
       "3                        1.0         49.44           1.0        1.0   \n",
       "4                        1.0         16.70           2.0        1.0   \n",
       "...                      ...           ...           ...        ...   \n",
       "64210                    1.0         25.54           1.0        1.0   \n",
       "64211                    1.0         75.98           1.0        1.0   \n",
       "64212                    1.0         21.52           1.0        1.0   \n",
       "64213                    1.0         37.21           1.0        1.0   \n",
       "64214                    1.0         31.18           1.0        1.0   \n",
       "\n",
       "       congestion_surcharge  \n",
       "0                       0.0  \n",
       "1                       0.0  \n",
       "2                       0.0  \n",
       "3                       0.0  \n",
       "4                       0.0  \n",
       "...                     ...  \n",
       "64210                   0.0  \n",
       "64211                   0.0  \n",
       "64212                   0.0  \n",
       "64213                   0.0  \n",
       "64214                   0.0  \n",
       "\n",
       "[64215 rows x 20 columns]"
      ]
     },
     "execution_count": 25,
     "metadata": {},
     "output_type": "execute_result"
    }
   ],
   "source": [
    "greentaxi_df"
   ]
  },
  {
   "cell_type": "code",
   "execution_count": 26,
   "id": "4981af03",
   "metadata": {},
   "outputs": [
    {
     "data": {
      "text/plain": [
       "PULocationID\n",
       "74     13657\n",
       "75      8511\n",
       "82      3278\n",
       "41      3249\n",
       "95      3180\n",
       "       ...  \n",
       "45         1\n",
       "107        1\n",
       "239        1\n",
       "175        1\n",
       "58         1\n",
       "Name: count, Length: 220, dtype: int64"
      ]
     },
     "execution_count": 26,
     "metadata": {},
     "output_type": "execute_result"
    }
   ],
   "source": [
    "greentaxi_df.PULocationID.value_counts()"
   ]
  },
  {
   "cell_type": "code",
   "execution_count": 27,
   "id": "93962f18",
   "metadata": {},
   "outputs": [
    {
     "data": {
      "text/plain": [
       "Index(['VendorID', 'pickup_time', 'dropoff_time', 'store_and_fwd_flag',\n",
       "       'RatecodeID', 'PULocationID', 'DOLocationID', 'passenger_count',\n",
       "       'trip_distance', 'fare_amount', 'extra', 'mta_tax', 'tip_amount',\n",
       "       'tolls_amount', 'ehail_fee', 'improvement_surcharge', 'total_amount',\n",
       "       'payment_type', 'trip_type', 'congestion_surcharge'],\n",
       "      dtype='object')"
      ]
     },
     "execution_count": 27,
     "metadata": {},
     "output_type": "execute_result"
    }
   ],
   "source": [
    "greentaxi_df.columns"
   ]
  },
  {
   "cell_type": "code",
   "execution_count": 28,
   "id": "4f5ceebe",
   "metadata": {},
   "outputs": [],
   "source": [
    "## Drop the unwanted columns\n",
    "greentaxi_df = greentaxi_df.drop(['VendorID','PULocationID','DOLocationID'],axis=1)"
   ]
  },
  {
   "cell_type": "code",
   "execution_count": 29,
   "id": "2dc0e081",
   "metadata": {},
   "outputs": [
    {
     "data": {
      "text/plain": [
       "Index(['pickup_time', 'dropoff_time', 'store_and_fwd_flag', 'RatecodeID',\n",
       "       'passenger_count', 'trip_distance', 'fare_amount', 'extra', 'mta_tax',\n",
       "       'tip_amount', 'tolls_amount', 'ehail_fee', 'improvement_surcharge',\n",
       "       'total_amount', 'payment_type', 'trip_type', 'congestion_surcharge'],\n",
       "      dtype='object')"
      ]
     },
     "execution_count": 29,
     "metadata": {},
     "output_type": "execute_result"
    }
   ],
   "source": [
    "greentaxi_df.columns"
   ]
  },
  {
   "cell_type": "code",
   "execution_count": 30,
   "id": "8182b08a",
   "metadata": {},
   "outputs": [],
   "source": [
    "#create anew variable called \"trip_duration\"\n",
    "greentaxi_df['trip_duration']=greentaxi_df.dropoff_time-greentaxi_df.pickup_time"
   ]
  },
  {
   "cell_type": "code",
   "execution_count": 31,
   "id": "c0f0ce18",
   "metadata": {},
   "outputs": [
    {
     "data": {
      "text/plain": [
       "0   0 days 00:15:11\n",
       "1   0 days 00:13:19\n",
       "2   0 days 00:19:47\n",
       "3   0 days 00:26:54\n",
       "4   0 days 00:08:39\n",
       "Name: trip_duration, dtype: timedelta64[ns]"
      ]
     },
     "execution_count": 31,
     "metadata": {},
     "output_type": "execute_result"
    }
   ],
   "source": [
    "greentaxi_df.trip_duration.head()"
   ]
  },
  {
   "cell_type": "code",
   "execution_count": 32,
   "id": "cd88c9e4",
   "metadata": {},
   "outputs": [],
   "source": [
    "#dt refers to datetime library in pandas\n",
    "greentaxi_df.trip_duration=greentaxi_df.trip_duration.dt.total_seconds()/60"
   ]
  },
  {
   "cell_type": "code",
   "execution_count": 33,
   "id": "29cca241",
   "metadata": {},
   "outputs": [
    {
     "data": {
      "text/plain": [
       "0    15.183333\n",
       "1    13.316667\n",
       "2    19.783333\n",
       "3    26.900000\n",
       "4     8.650000\n",
       "Name: trip_duration, dtype: float64"
      ]
     },
     "execution_count": 33,
     "metadata": {},
     "output_type": "execute_result"
    }
   ],
   "source": [
    "greentaxi_df.trip_duration.head()"
   ]
  },
  {
   "cell_type": "code",
   "execution_count": 34,
   "id": "30164c86",
   "metadata": {},
   "outputs": [],
   "source": [
    "greentaxi_df['weekday'] = greentaxi_df.dropoff_time.dt.weekday"
   ]
  },
  {
   "cell_type": "code",
   "execution_count": 35,
   "id": "cf57ec5e",
   "metadata": {},
   "outputs": [
    {
     "data": {
      "text/plain": [
       "weekday\n",
       "4    11724\n",
       "5     9427\n",
       "2     9406\n",
       "3     9352\n",
       "1     8760\n",
       "6     7786\n",
       "0     7760\n",
       "Name: count, dtype: int64"
      ]
     },
     "execution_count": 35,
     "metadata": {},
     "output_type": "execute_result"
    }
   ],
   "source": [
    "greentaxi_df.weekday.value_counts()  ## 0 is sunday and 6 is saturday "
   ]
  },
  {
   "cell_type": "code",
   "execution_count": 36,
   "id": "b5097083",
   "metadata": {},
   "outputs": [],
   "source": [
    "greentaxi_df['hourofday'] = greentaxi_df.dropoff_time.dt.hour"
   ]
  },
  {
   "cell_type": "markdown",
   "id": "365c008d",
   "metadata": {},
   "source": [
    "### Exploratory Data Analysis"
   ]
  },
  {
   "cell_type": "code",
   "execution_count": 37,
   "id": "062cad5d",
   "metadata": {},
   "outputs": [],
   "source": [
    "## Data Visualization\n",
    "# Frequency Counts and Pie Diagram with percentage for trip_type, payment_type, RatecodeId\n",
    "# Cross Tabulation and Stacked Bar Plot for variables weekday & trip_type, weekday & payment_type, hour & payment_type"
   ]
  },
  {
   "cell_type": "code",
   "execution_count": 38,
   "id": "7e954bec",
   "metadata": {},
   "outputs": [
    {
     "data": {
      "text/plain": [
       "<Axes: ylabel='count'>"
      ]
     },
     "execution_count": 38,
     "metadata": {},
     "output_type": "execute_result"
    },
    {
     "data": {
      "image/png": "[encoded data removed]",
      "text/plain": [
       "<Figure size 640x480 with 1 Axes>"
      ]
     },
     "metadata": {},
     "output_type": "display_data"
    }
   ],
   "source": [
    "greentaxi_df.trip_type.value_counts().plot(kind=\"pie\", autopct=\"%.2f%%\")"
   ]
  },
  {
   "cell_type": "code",
   "execution_count": 39,
   "id": "1ec1114c",
   "metadata": {},
   "outputs": [
    {
     "data": {
      "text/plain": [
       "<Axes: ylabel='count'>"
      ]
     },
     "execution_count": 39,
     "metadata": {},
     "output_type": "execute_result"
    },
    {
     "data": {
      "image/png": "[encoded data removed]",
      "text/plain": [
       "<Figure size 640x480 with 1 Axes>"
      ]
     },
     "metadata": {},
     "output_type": "display_data"
    }
   ],
   "source": [
    "greentaxi_df.payment_type.value_counts().plot(kind=\"pie\", autopct = \"%.2f%%\")"
   ]
  },
  {
   "cell_type": "code",
   "execution_count": 40,
   "id": "0f5d4c24",
   "metadata": {},
   "outputs": [
    {
     "data": {
      "text/plain": [
       "<Axes: ylabel='count'>"
      ]
     },
     "execution_count": 40,
     "metadata": {},
     "output_type": "execute_result"
    },
    {
     "data": {
      "image/png": "[encoded data removed]",
      "text/plain": [
       "<Figure size 640x480 with 1 Axes>"
      ]
     },
     "metadata": {},
     "output_type": "display_data"
    }
   ],
   "source": [
    "greentaxi_df.RatecodeID.value_counts().plot(kind=\"pie\", autopct=\"%.2f%%\")"
   ]
  },
  {
   "cell_type": "code",
   "execution_count": 41,
   "id": "8356da42",
   "metadata": {},
   "outputs": [
    {
     "data": {
      "image/png": "[encoded data removed]",
      "text/plain": [
       "<Figure size 640x480 with 1 Axes>"
      ]
     },
     "metadata": {},
     "output_type": "display_data"
    }
   ],
   "source": [
    "## stacked bar chart\n",
    "ax = pd.crosstab(greentaxi_df.weekday, greentaxi_df.trip_type).plot(kind=\"bar\",stacked=True)\n",
    "for i in ax.containers:\n",
    "    ax.bar_label(i)"
   ]
  },
  {
   "cell_type": "code",
   "execution_count": 42,
   "id": "433735d5",
   "metadata": {},
   "outputs": [
    {
     "data": {
      "image/png": "[encoded data removed]",
      "text/plain": [
       "<Figure size 640x480 with 1 Axes>"
      ]
     },
     "metadata": {},
     "output_type": "display_data"
    }
   ],
   "source": [
    "ax = pd.crosstab(greentaxi_df.weekday, greentaxi_df.payment_type).plot(kind=\"bar\",stacked=True)\n",
    "for i in ax.containers:\n",
    "    ax.bar_label(i)"
   ]
  },
  {
   "cell_type": "code",
   "execution_count": 43,
   "id": "a88f451a",
   "metadata": {},
   "outputs": [
    {
     "data": {
      "image/png": "[encoded data removed]",
      "text/plain": [
       "<Figure size 640x480 with 1 Axes>"
      ]
     },
     "metadata": {},
     "output_type": "display_data"
    }
   ],
   "source": [
    "ax = pd.crosstab(greentaxi_df.hourofday, greentaxi_df.payment_type).plot(kind=\"bar\",stacked=True)"
   ]
  },
  {
   "cell_type": "code",
   "execution_count": 44,
   "id": "325dc327",
   "metadata": {},
   "outputs": [
    {
     "data": {
      "text/plain": [
       "weekday\n",
       "0    23.743867\n",
       "1    24.543299\n",
       "2    24.378332\n",
       "3    24.425886\n",
       "4    24.675928\n",
       "5    24.145888\n",
       "6    23.633842\n",
       "Name: total_amount, dtype: float64"
      ]
     },
     "execution_count": 44,
     "metadata": {},
     "output_type": "execute_result"
    }
   ],
   "source": [
    "## group by mean for following : weekday & total amount, hour & total amount, payment type & total amount\n",
    "greentaxi_df.total_amount.groupby(greentaxi_df.weekday).mean()"
   ]
  },
  {
   "cell_type": "code",
   "execution_count": 45,
   "id": "23b82a50",
   "metadata": {},
   "outputs": [
    {
     "data": {
      "text/plain": [
       "hourofday\n",
       "0     25.741533\n",
       "1     25.981108\n",
       "2     25.671286\n",
       "3     27.706583\n",
       "4     33.157358\n",
       "5     32.163444\n",
       "6     23.964421\n",
       "7     21.738779\n",
       "8     23.630757\n",
       "9     25.484587\n",
       "10    24.425852\n",
       "11    24.868570\n",
       "12    24.251215\n",
       "13    23.227901\n",
       "14    23.267461\n",
       "15    22.990052\n",
       "16    24.209532\n",
       "17    24.454642\n",
       "18    23.949861\n",
       "19    23.824570\n",
       "20    24.715433\n",
       "21    24.550802\n",
       "22    24.614092\n",
       "23    23.978051\n",
       "Name: total_amount, dtype: float64"
      ]
     },
     "execution_count": 45,
     "metadata": {},
     "output_type": "execute_result"
    }
   ],
   "source": [
    "greentaxi_df.total_amount.groupby(greentaxi_df.hourofday).mean()"
   ]
  },
  {
   "cell_type": "code",
   "execution_count": 46,
   "id": "c2b36d1f",
   "metadata": {},
   "outputs": [
    {
     "data": {
      "text/plain": [
       "payment_type\n",
       "1.0    24.933945\n",
       "2.0    23.291541\n",
       "3.0     5.508391\n",
       "4.0     4.278477\n",
       "Name: total_amount, dtype: float64"
      ]
     },
     "execution_count": 46,
     "metadata": {},
     "output_type": "execute_result"
    }
   ],
   "source": [
    "greentaxi_df.total_amount.groupby(greentaxi_df.payment_type).mean()"
   ]
  },
  {
   "cell_type": "code",
   "execution_count": 47,
   "id": "ab25aafd",
   "metadata": {},
   "outputs": [
    {
     "data": {
      "text/plain": [
       "weekday\n",
       "0    21.296351\n",
       "1    18.224484\n",
       "2    19.622978\n",
       "3    20.851110\n",
       "4    19.748004\n",
       "5    21.317102\n",
       "6    21.609256\n",
       "Name: trip_duration, dtype: float64"
      ]
     },
     "execution_count": 47,
     "metadata": {},
     "output_type": "execute_result"
    }
   ],
   "source": [
    "## do thegroup by following : weekday & trip duration ,hour & trip_duration payment_type & trip_duration\n",
    "greentaxi_df.trip_duration.groupby(greentaxi_df.weekday).mean()"
   ]
  },
  {
   "cell_type": "code",
   "execution_count": 48,
   "id": "4169a518",
   "metadata": {},
   "outputs": [
    {
     "data": {
      "text/plain": [
       "hourofday\n",
       "0     50.662179\n",
       "1     15.545890\n",
       "2     14.250810\n",
       "3     17.415419\n",
       "4     16.239229\n",
       "5     60.827593\n",
       "6     26.643443\n",
       "7     13.841632\n",
       "8     18.500173\n",
       "9     19.353994\n",
       "10    22.188935\n",
       "11    19.360817\n",
       "12    20.348160\n",
       "13    20.358537\n",
       "14    21.134932\n",
       "15    21.278400\n",
       "16    19.258154\n",
       "17    18.547797\n",
       "18    19.758804\n",
       "19    19.722885\n",
       "20    20.057312\n",
       "21    19.038458\n",
       "22    15.788364\n",
       "23    14.513098\n",
       "Name: trip_duration, dtype: float64"
      ]
     },
     "execution_count": 48,
     "metadata": {},
     "output_type": "execute_result"
    }
   ],
   "source": [
    "greentaxi_df.trip_duration.groupby(greentaxi_df.hourofday).mean()"
   ]
  },
  {
   "cell_type": "code",
   "execution_count": 49,
   "id": "834db0e0",
   "metadata": {},
   "outputs": [
    {
     "data": {
      "text/plain": [
       "payment_type\n",
       "1.0    19.550575\n",
       "2.0    22.655363\n",
       "3.0     4.502065\n",
       "4.0     4.950331\n",
       "Name: trip_duration, dtype: float64"
      ]
     },
     "execution_count": 49,
     "metadata": {},
     "output_type": "execute_result"
    }
   ],
   "source": [
    "greentaxi_df.trip_duration.groupby(greentaxi_df.payment_type).mean()"
   ]
  },
  {
   "cell_type": "markdown",
   "id": "40d0d013",
   "metadata": {},
   "source": [
    "### Hypothesis Testing"
   ]
  },
  {
   "cell_type": "code",
   "execution_count": 50,
   "id": "08162a13",
   "metadata": {},
   "outputs": [
    {
     "data": {
      "text/plain": [
       "trip_type\n",
       "1.0    23.604381\n",
       "2.0    43.345407\n",
       "Name: total_amount, dtype: float64"
      ]
     },
     "execution_count": 50,
     "metadata": {},
     "output_type": "execute_result"
    }
   ],
   "source": [
    "# test null average total_amount of different trip_type is equal\n",
    "greentaxi_df.total_amount.groupby(greentaxi_df.trip_type).mean()"
   ]
  },
  {
   "cell_type": "code",
   "execution_count": 51,
   "id": "d70b4b56",
   "metadata": {},
   "outputs": [
    {
     "data": {
      "text/plain": [
       "trip_type\n",
       "1.0     488.291711\n",
       "2.0    3371.156084\n",
       "Name: total_amount, dtype: float64"
      ]
     },
     "execution_count": 51,
     "metadata": {},
     "output_type": "execute_result"
    }
   ],
   "source": [
    "greentaxi_df.total_amount.groupby(greentaxi_df.trip_type).var()"
   ]
  },
  {
   "cell_type": "code",
   "execution_count": 52,
   "id": "f72e9a32",
   "metadata": {},
   "outputs": [
    {
     "data": {
      "text/plain": [
       "trip_type\n",
       "1.0     488.29\n",
       "2.0    3371.16\n",
       "Name: total_amount, dtype: float64"
      ]
     },
     "execution_count": 52,
     "metadata": {},
     "output_type": "execute_result"
    }
   ],
   "source": [
    "np.round(greentaxi_df.total_amount.groupby(greentaxi_df.trip_type).var(),2)"
   ]
  },
  {
   "cell_type": "code",
   "execution_count": 53,
   "id": "dc150fb4",
   "metadata": {},
   "outputs": [],
   "source": [
    "## Null - There is no significance difference in average amount of total amount & trip_type for 1 &2\n",
    "## Alternate - There is Significance difference in avg amount of total amount & tip_type for 1&2"
   ]
  },
  {
   "cell_type": "code",
   "execution_count": 72,
   "id": "3e022b3b",
   "metadata": {},
   "outputs": [],
   "source": [
    "type1 = greentaxi_df[greentaxi_df.trip_type==1.0]\n",
    "typ2 = greentaxi_df[greentaxi_df.trip_type==2.0]"
   ]
  },
  {
   "cell_type": "code",
   "execution_count": 55,
   "id": "181be623",
   "metadata": {},
   "outputs": [],
   "source": [
    "from scipy.stats import ttest_ind"
   ]
  },
  {
   "cell_type": "code",
   "execution_count": 73,
   "id": "2fb6d16f",
   "metadata": {},
   "outputs": [
    {
     "data": {
      "text/plain": [
       "TtestResult(statistic=-15.674778125704242, pvalue=1.5935446916773329e-52, df=2156.3318374433848)"
      ]
     },
     "execution_count": 73,
     "metadata": {},
     "output_type": "execute_result"
    }
   ],
   "source": [
    "ttest_ind(type1.total_amount, typ2.total_amount, equal_var=False)\n",
    "# Since the pval=1.5935446916773329e-5 is less than 0.05 hence reject null"
   ]
  },
  {
   "cell_type": "code",
   "execution_count": 57,
   "id": "c29f2032",
   "metadata": {},
   "outputs": [
    {
     "data": {
      "text/plain": [
       "trip_type\n",
       "1.0    2.273823\n",
       "2.0    2.507809\n",
       "Name: tip_amount, dtype: float64"
      ]
     },
     "execution_count": 57,
     "metadata": {},
     "output_type": "execute_result"
    }
   ],
   "source": [
    "# test null average for tip amount of different trip_type\n",
    "greentaxi_df.tip_amount.groupby(greentaxi_df.trip_type).mean()"
   ]
  },
  {
   "cell_type": "code",
   "execution_count": 58,
   "id": "d1b1b48b",
   "metadata": {},
   "outputs": [
    {
     "data": {
      "text/plain": [
       "trip_type\n",
       "1.0     9.565744\n",
       "2.0    21.610677\n",
       "Name: tip_amount, dtype: float64"
      ]
     },
     "execution_count": 58,
     "metadata": {},
     "output_type": "execute_result"
    }
   ],
   "source": [
    "greentaxi_df.tip_amount.groupby(greentaxi_df.trip_type).var()"
   ]
  },
  {
   "cell_type": "code",
   "execution_count": 59,
   "id": "165e0567",
   "metadata": {},
   "outputs": [],
   "source": [
    "# Frame Null and Alternate Hypothesis\n",
    "# Null - There is no Significant difference in Average tip amount & trip type 1&2\n",
    "# Alt - There is Significant difference in Average tripamount & trip type 1&2"
   ]
  },
  {
   "cell_type": "code",
   "execution_count": 60,
   "id": "7ee2af3a",
   "metadata": {},
   "outputs": [
    {
     "data": {
      "text/plain": [
       "TtestResult(statistic=-2.308739071105007, pvalue=0.021050320332690407, df=2200.5108273548913)"
      ]
     },
     "execution_count": 60,
     "metadata": {},
     "output_type": "execute_result"
    }
   ],
   "source": [
    "ttest_ind(ones.tip_amount, twos.tip_amount, equal_var=False)\n",
    "## Since the pvalue = 0.021050320332690407 is less than 0.05 hence reject NUll"
   ]
  },
  {
   "cell_type": "code",
   "execution_count": 61,
   "id": "7d069ce4",
   "metadata": {},
   "outputs": [
    {
     "data": {
      "text/plain": [
       "weekday\n",
       "0    23.743867\n",
       "1    24.543299\n",
       "2    24.378332\n",
       "3    24.425886\n",
       "4    24.675928\n",
       "5    24.145888\n",
       "6    23.633842\n",
       "Name: total_amount, dtype: float64"
      ]
     },
     "execution_count": 61,
     "metadata": {},
     "output_type": "execute_result"
    }
   ],
   "source": [
    "# Test Null Average total_amount for different weekday equal\n",
    "greentaxi_df.total_amount.groupby(greentaxi_df.weekday).mean()"
   ]
  },
  {
   "cell_type": "code",
   "execution_count": 62,
   "id": "b0f6ee93",
   "metadata": {},
   "outputs": [],
   "source": [
    "zero = greentaxi_df[greentaxi_df.weekday==0]\n",
    "one = greentaxi_df[greentaxi_df.weekday==1]\n",
    "two = greentaxi_df[greentaxi_df.weekday==2]\n",
    "three = greentaxi_df[greentaxi_df.weekday==3]\n",
    "four = greentaxi_df[greentaxi_df.weekday==4]\n",
    "five = greentaxi_df[greentaxi_df.weekday==5]\n",
    "six = greentaxi_df[greentaxi_df.weekday==6]"
   ]
  },
  {
   "cell_type": "code",
   "execution_count": 63,
   "id": "acd41815",
   "metadata": {},
   "outputs": [],
   "source": [
    "from scipy.stats import f_oneway"
   ]
  },
  {
   "cell_type": "code",
   "execution_count": 66,
   "id": "ab97fd63",
   "metadata": {},
   "outputs": [
    {
     "data": {
      "text/plain": [
       "F_onewayResult(statistic=2.336303349455796, pvalue=0.02944987422975883)"
      ]
     },
     "execution_count": 66,
     "metadata": {},
     "output_type": "execute_result"
    }
   ],
   "source": [
    "## Samples size is less than 30 hence we use f test\n",
    "f_oneway(zero.total_amount,one.total_amount,two.total_amount,three.total_amount,four.total_amount,five.total_amount,six.total_amount)\n",
    "# Since pval = 0.02944987422975883 is less than 0.05 hence Reject null"
   ]
  },
  {
   "cell_type": "code",
   "execution_count": 68,
   "id": "ebeb95e3",
   "metadata": {},
   "outputs": [
    {
     "data": {
      "text/plain": [
       "weekday\n",
       "0    2.253912\n",
       "1    2.291951\n",
       "2    2.244753\n",
       "3    2.310431\n",
       "4    2.240742\n",
       "5    2.329860\n",
       "6    2.310572\n",
       "Name: tip_amount, dtype: float64"
      ]
     },
     "execution_count": 68,
     "metadata": {},
     "output_type": "execute_result"
    }
   ],
   "source": [
    "## Test Null Average tip_amount for different weekday equal\n",
    "greentaxi_df.tip_amount.groupby(greentaxi_df.weekday).mean()"
   ]
  },
  {
   "cell_type": "code",
   "execution_count": 77,
   "id": "ce44c82a",
   "metadata": {},
   "outputs": [
    {
     "data": {
      "text/plain": [
       "F_onewayResult(statistic=1.2623237097171733, pvalue=0.2710246876187564)"
      ]
     },
     "execution_count": 77,
     "metadata": {},
     "output_type": "execute_result"
    }
   ],
   "source": [
    "f_oneway(zero.tip_amount,one.tip_amount,two.tip_amount,three.tip_amount,four.tip_amount,five.tip_amount,six.tip_amount)\n",
    "## since pval = 0.2710246876187564 is greater than 0.05, fail to reject Null "
   ]
  },
  {
   "cell_type": "code",
   "execution_count": 69,
   "id": "bdee60f8",
   "metadata": {},
   "outputs": [],
   "source": [
    "## Null - There is no Significant difference in Average tip amount of week day 0,1,2,3,4,5,6\n",
    "# Alt - There is Significant difference in Average tripamount of weekday 0,1,2,3,4,5,6"
   ]
  },
  {
   "cell_type": "code",
   "execution_count": 78,
   "id": "0e3dac70",
   "metadata": {},
   "outputs": [
    {
     "data": {
      "text/html": [
       "<div>\n",
       "<style scoped>\n",
       "    .dataframe tbody tr th:only-of-type {\n",
       "        vertical-align: middle;\n",
       "    }\n",
       "\n",
       "    .dataframe tbody tr th {\n",
       "        vertical-align: top;\n",
       "    }\n",
       "\n",
       "    .dataframe thead th {\n",
       "        text-align: right;\n",
       "    }\n",
       "</style>\n",
       "<table border=\"1\" class=\"dataframe\">\n",
       "  <thead>\n",
       "    <tr style=\"text-align: right;\">\n",
       "      <th>payment_type</th>\n",
       "      <th>1.0</th>\n",
       "      <th>2.0</th>\n",
       "      <th>3.0</th>\n",
       "      <th>4.0</th>\n",
       "    </tr>\n",
       "    <tr>\n",
       "      <th>trip_type</th>\n",
       "      <th></th>\n",
       "      <th></th>\n",
       "      <th></th>\n",
       "      <th></th>\n",
       "    </tr>\n",
       "  </thead>\n",
       "  <tbody>\n",
       "    <tr>\n",
       "      <th>1.0</th>\n",
       "      <td>43147</td>\n",
       "      <td>18384</td>\n",
       "      <td>409</td>\n",
       "      <td>139</td>\n",
       "    </tr>\n",
       "    <tr>\n",
       "      <th>2.0</th>\n",
       "      <td>1487</td>\n",
       "      <td>586</td>\n",
       "      <td>51</td>\n",
       "      <td>12</td>\n",
       "    </tr>\n",
       "  </tbody>\n",
       "</table>\n",
       "</div>"
      ],
      "text/plain": [
       "payment_type    1.0    2.0  3.0  4.0\n",
       "trip_type                           \n",
       "1.0           43147  18384  409  139\n",
       "2.0            1487    586   51   12"
      ]
     },
     "execution_count": 78,
     "metadata": {},
     "output_type": "execute_result"
    }
   ],
   "source": [
    "pd.crosstab(greentaxi_df.trip_type, greentaxi_df.payment_type)"
   ]
  },
  {
   "cell_type": "code",
   "execution_count": 74,
   "id": "684c6140",
   "metadata": {},
   "outputs": [
    {
     "data": {
      "text/html": [
       "<div>\n",
       "<style scoped>\n",
       "    .dataframe tbody tr th:only-of-type {\n",
       "        vertical-align: middle;\n",
       "    }\n",
       "\n",
       "    .dataframe tbody tr th {\n",
       "        vertical-align: top;\n",
       "    }\n",
       "\n",
       "    .dataframe thead th {\n",
       "        text-align: right;\n",
       "    }\n",
       "</style>\n",
       "<table border=\"1\" class=\"dataframe\">\n",
       "  <thead>\n",
       "    <tr style=\"text-align: right;\">\n",
       "      <th>payment_type</th>\n",
       "      <th>1.0</th>\n",
       "      <th>2.0</th>\n",
       "      <th>3.0</th>\n",
       "      <th>4.0</th>\n",
       "    </tr>\n",
       "    <tr>\n",
       "      <th>weekday</th>\n",
       "      <th></th>\n",
       "      <th></th>\n",
       "      <th></th>\n",
       "      <th></th>\n",
       "    </tr>\n",
       "  </thead>\n",
       "  <tbody>\n",
       "    <tr>\n",
       "      <th>0</th>\n",
       "      <td>5490</td>\n",
       "      <td>2208</td>\n",
       "      <td>49</td>\n",
       "      <td>13</td>\n",
       "    </tr>\n",
       "    <tr>\n",
       "      <th>1</th>\n",
       "      <td>6200</td>\n",
       "      <td>2495</td>\n",
       "      <td>49</td>\n",
       "      <td>16</td>\n",
       "    </tr>\n",
       "    <tr>\n",
       "      <th>2</th>\n",
       "      <td>6599</td>\n",
       "      <td>2714</td>\n",
       "      <td>66</td>\n",
       "      <td>27</td>\n",
       "    </tr>\n",
       "    <tr>\n",
       "      <th>3</th>\n",
       "      <td>6616</td>\n",
       "      <td>2649</td>\n",
       "      <td>62</td>\n",
       "      <td>25</td>\n",
       "    </tr>\n",
       "    <tr>\n",
       "      <th>4</th>\n",
       "      <td>8034</td>\n",
       "      <td>3577</td>\n",
       "      <td>81</td>\n",
       "      <td>32</td>\n",
       "    </tr>\n",
       "    <tr>\n",
       "      <th>5</th>\n",
       "      <td>6327</td>\n",
       "      <td>2978</td>\n",
       "      <td>95</td>\n",
       "      <td>27</td>\n",
       "    </tr>\n",
       "    <tr>\n",
       "      <th>6</th>\n",
       "      <td>5368</td>\n",
       "      <td>2349</td>\n",
       "      <td>58</td>\n",
       "      <td>11</td>\n",
       "    </tr>\n",
       "  </tbody>\n",
       "</table>\n",
       "</div>"
      ],
      "text/plain": [
       "payment_type   1.0   2.0  3.0  4.0\n",
       "weekday                           \n",
       "0             5490  2208   49   13\n",
       "1             6200  2495   49   16\n",
       "2             6599  2714   66   27\n",
       "3             6616  2649   62   25\n",
       "4             8034  3577   81   32\n",
       "5             6327  2978   95   27\n",
       "6             5368  2349   58   11"
      ]
     },
     "execution_count": 74,
     "metadata": {},
     "output_type": "execute_result"
    }
   ],
   "source": [
    "pd.crosstab(greentaxi_df.weekday,greentaxi_df.payment_type)"
   ]
  },
  {
   "cell_type": "code",
   "execution_count": 76,
   "id": "e39f67a5",
   "metadata": {},
   "outputs": [],
   "source": [
    "#null- there is no association between both variables\n",
    "#alt- there is association between both variables"
   ]
  },
  {
   "cell_type": "code",
   "execution_count": 75,
   "id": "57892aeb",
   "metadata": {},
   "outputs": [],
   "source": [
    "from scipy.stats import chi2_contingency"
   ]
  },
  {
   "cell_type": "code",
   "execution_count": 79,
   "id": "b17b97d1",
   "metadata": {},
   "outputs": [
    {
     "data": {
      "text/plain": [
       "Chi2ContingencyResult(statistic=71.16640030197951, pvalue=2.866002535138755e-08, dof=18, expected_freq=array([[5393.75286148, 2292.41143035,   55.5882582 ,   18.24744997],\n",
       "       [6088.82410652, 2587.82527447,   62.75169353,   20.59892548],\n",
       "       [6537.84013081, 2778.66261777,   67.37927276,   22.11797867],\n",
       "       [6500.30628358, 2762.71027019,   66.99244725,   21.99099899],\n",
       "       [8149.0152768 , 3463.43190843,   83.98411586,   27.5686989 ],\n",
       "       [6552.43662696, 2784.86630849,   67.5297049 ,   22.16735965],\n",
       "       [5411.82471385, 2300.0921903 ,   55.77450751,   18.30858834]]))"
      ]
     },
     "execution_count": 79,
     "metadata": {},
     "output_type": "execute_result"
    }
   ],
   "source": [
    "chi2_contingency(pd.crosstab(greentaxi_df.weekday,greentaxi_df.payment_type))\n",
    "## Since pval = 2.866002535138755e-08 is less than 0.05 , Reject null"
   ]
  },
  {
   "cell_type": "code",
   "execution_count": 81,
   "id": "36e4d348",
   "metadata": {},
   "outputs": [
    {
     "data": {
      "text/plain": [
       "Chi2ContingencyResult(statistic=99.50442465022357, pvalue=1.9863262889987834e-21, dof=3, expected_freq=array([[4.31493278e+04, 1.83389960e+04, 4.44698902e+02, 1.45977248e+02],\n",
       "       [1.48467218e+03, 6.31003971e+02, 1.53010979e+01, 5.02275169e+00]]))"
      ]
     },
     "execution_count": 81,
     "metadata": {},
     "output_type": "execute_result"
    }
   ],
   "source": [
    "chi2_contingency(pd.crosstab(greentaxi_df.trip_type, greentaxi_df.payment_type))\n",
    "## SInce pval = 1.9863262889987834e-21 is less than 0.05 Reject NUll"
   ]
  },
  {
   "cell_type": "code",
   "execution_count": 82,
   "id": "0c8c3459",
   "metadata": {},
   "outputs": [
    {
     "data": {
      "text/html": [
       "<div>\n",
       "<style scoped>\n",
       "    .dataframe tbody tr th:only-of-type {\n",
       "        vertical-align: middle;\n",
       "    }\n",
       "\n",
       "    .dataframe tbody tr th {\n",
       "        vertical-align: top;\n",
       "    }\n",
       "\n",
       "    .dataframe thead th {\n",
       "        text-align: right;\n",
       "    }\n",
       "</style>\n",
       "<table border=\"1\" class=\"dataframe\">\n",
       "  <thead>\n",
       "    <tr style=\"text-align: right;\">\n",
       "      <th>payment_type</th>\n",
       "      <th>1.0</th>\n",
       "      <th>2.0</th>\n",
       "      <th>3.0</th>\n",
       "      <th>4.0</th>\n",
       "    </tr>\n",
       "    <tr>\n",
       "      <th>RatecodeID</th>\n",
       "      <th></th>\n",
       "      <th></th>\n",
       "      <th></th>\n",
       "      <th></th>\n",
       "    </tr>\n",
       "  </thead>\n",
       "  <tbody>\n",
       "    <tr>\n",
       "      <th>1.0</th>\n",
       "      <td>42929</td>\n",
       "      <td>18179</td>\n",
       "      <td>381</td>\n",
       "      <td>127</td>\n",
       "    </tr>\n",
       "    <tr>\n",
       "      <th>2.0</th>\n",
       "      <td>100</td>\n",
       "      <td>56</td>\n",
       "      <td>16</td>\n",
       "      <td>10</td>\n",
       "    </tr>\n",
       "    <tr>\n",
       "      <th>3.0</th>\n",
       "      <td>15</td>\n",
       "      <td>12</td>\n",
       "      <td>4</td>\n",
       "      <td>2</td>\n",
       "    </tr>\n",
       "    <tr>\n",
       "      <th>4.0</th>\n",
       "      <td>33</td>\n",
       "      <td>29</td>\n",
       "      <td>1</td>\n",
       "      <td>0</td>\n",
       "    </tr>\n",
       "    <tr>\n",
       "      <th>5.0</th>\n",
       "      <td>1555</td>\n",
       "      <td>693</td>\n",
       "      <td>57</td>\n",
       "      <td>12</td>\n",
       "    </tr>\n",
       "    <tr>\n",
       "      <th>6.0</th>\n",
       "      <td>0</td>\n",
       "      <td>1</td>\n",
       "      <td>1</td>\n",
       "      <td>0</td>\n",
       "    </tr>\n",
       "    <tr>\n",
       "      <th>99.0</th>\n",
       "      <td>2</td>\n",
       "      <td>0</td>\n",
       "      <td>0</td>\n",
       "      <td>0</td>\n",
       "    </tr>\n",
       "  </tbody>\n",
       "</table>\n",
       "</div>"
      ],
      "text/plain": [
       "payment_type    1.0    2.0  3.0  4.0\n",
       "RatecodeID                          \n",
       "1.0           42929  18179  381  127\n",
       "2.0             100     56   16   10\n",
       "3.0              15     12    4    2\n",
       "4.0              33     29    1    0\n",
       "5.0            1555    693   57   12\n",
       "6.0               0      1    1    0\n",
       "99.0              2      0    0    0"
      ]
     },
     "execution_count": 82,
     "metadata": {},
     "output_type": "execute_result"
    }
   ],
   "source": [
    "# Test Null No Association between RatecodeID and payment_type\n",
    "pd.crosstab(greentaxi_df.RatecodeID,greentaxi_df.payment_type)"
   ]
  },
  {
   "cell_type": "code",
   "execution_count": 83,
   "id": "cc926dfe",
   "metadata": {},
   "outputs": [
    {
     "data": {
      "text/plain": [
       "Chi2ContingencyResult(statistic=694.8328364533172, pvalue=7.084942687530765e-136, dof=18, expected_freq=array([[4.28275098e+04, 1.82022194e+04, 4.41382232e+02, 1.44888515e+02],\n",
       "       [1.26502967e+02, 5.37653196e+01, 1.30374523e+00, 4.27968543e-01],\n",
       "       [2.29373511e+01, 9.74865686e+00, 2.36393366e-01, 7.75986919e-02],\n",
       "       [4.37894884e+01, 1.86110722e+01, 4.51296426e-01, 1.48142957e-01],\n",
       "       [1.61048007e+03, 6.84473877e+02, 1.65976797e+01, 5.44836876e+00],\n",
       "       [1.39014249e+00, 5.90827688e-01, 1.43268707e-02, 4.70295102e-03],\n",
       "       [1.39014249e+00, 5.90827688e-01, 1.43268707e-02, 4.70295102e-03]]))"
      ]
     },
     "execution_count": 83,
     "metadata": {},
     "output_type": "execute_result"
    }
   ],
   "source": [
    "chi2_contingency(pd.crosstab(greentaxi_df.RatecodeID,greentaxi_df.payment_type))\n",
    "## Since pval = 7.084942687530765e-136 is less than 0.05 Reject NUll"
   ]
  },
  {
   "cell_type": "code",
   "execution_count": 84,
   "id": "a4b4c53c",
   "metadata": {},
   "outputs": [
    {
     "data": {
      "text/plain": [
       "Index(['pickup_time', 'dropoff_time', 'store_and_fwd_flag', 'RatecodeID',\n",
       "       'passenger_count', 'trip_distance', 'fare_amount', 'extra', 'mta_tax',\n",
       "       'tip_amount', 'tolls_amount', 'ehail_fee', 'improvement_surcharge',\n",
       "       'total_amount', 'payment_type', 'trip_type', 'congestion_surcharge',\n",
       "       'trip_duration', 'weekday', 'hourofday'],\n",
       "      dtype='object')"
      ]
     },
     "execution_count": 84,
     "metadata": {},
     "output_type": "execute_result"
    }
   ],
   "source": [
    "greentaxi_df.columns"
   ]
  },
  {
   "cell_type": "code",
   "execution_count": 101,
   "id": "7aa7ef74",
   "metadata": {},
   "outputs": [],
   "source": [
    "## Split data into numericcols and object cols\n",
    "numcols = greentaxi_df[[ 'trip_distance', 'fare_amount', 'extra', 'mta_tax',\n",
    "       'tip_amount', 'tolls_amount', 'improvement_surcharge',\n",
    "       'total_amount', 'payment_type', 'trip_type', 'congestion_surcharge',\n",
    "       'trip_duration']]"
   ]
  },
  {
   "cell_type": "code",
   "execution_count": 102,
   "id": "c9739a6a",
   "metadata": {},
   "outputs": [
    {
     "data": {
      "text/html": [
       "<div>\n",
       "<style scoped>\n",
       "    .dataframe tbody tr th:only-of-type {\n",
       "        vertical-align: middle;\n",
       "    }\n",
       "\n",
       "    .dataframe tbody tr th {\n",
       "        vertical-align: top;\n",
       "    }\n",
       "\n",
       "    .dataframe thead th {\n",
       "        text-align: right;\n",
       "    }\n",
       "</style>\n",
       "<table border=\"1\" class=\"dataframe\">\n",
       "  <thead>\n",
       "    <tr style=\"text-align: right;\">\n",
       "      <th></th>\n",
       "      <th>trip_distance</th>\n",
       "      <th>fare_amount</th>\n",
       "      <th>extra</th>\n",
       "      <th>mta_tax</th>\n",
       "      <th>tip_amount</th>\n",
       "      <th>tolls_amount</th>\n",
       "      <th>improvement_surcharge</th>\n",
       "      <th>total_amount</th>\n",
       "      <th>payment_type</th>\n",
       "      <th>trip_type</th>\n",
       "      <th>congestion_surcharge</th>\n",
       "      <th>trip_duration</th>\n",
       "    </tr>\n",
       "  </thead>\n",
       "  <tbody>\n",
       "    <tr>\n",
       "      <th>0</th>\n",
       "      <td>4.80</td>\n",
       "      <td>22.6</td>\n",
       "      <td>1.0</td>\n",
       "      <td>0.5</td>\n",
       "      <td>5.02</td>\n",
       "      <td>0.0</td>\n",
       "      <td>1.0</td>\n",
       "      <td>30.12</td>\n",
       "      <td>1.0</td>\n",
       "      <td>1.0</td>\n",
       "      <td>0.0</td>\n",
       "      <td>15.183333</td>\n",
       "    </tr>\n",
       "    <tr>\n",
       "      <th>1</th>\n",
       "      <td>3.60</td>\n",
       "      <td>19.1</td>\n",
       "      <td>1.0</td>\n",
       "      <td>1.5</td>\n",
       "      <td>4.30</td>\n",
       "      <td>0.0</td>\n",
       "      <td>1.0</td>\n",
       "      <td>25.90</td>\n",
       "      <td>1.0</td>\n",
       "      <td>1.0</td>\n",
       "      <td>0.0</td>\n",
       "      <td>13.316667</td>\n",
       "    </tr>\n",
       "    <tr>\n",
       "      <th>2</th>\n",
       "      <td>2.07</td>\n",
       "      <td>18.4</td>\n",
       "      <td>1.0</td>\n",
       "      <td>0.5</td>\n",
       "      <td>0.00</td>\n",
       "      <td>0.0</td>\n",
       "      <td>1.0</td>\n",
       "      <td>20.90</td>\n",
       "      <td>2.0</td>\n",
       "      <td>1.0</td>\n",
       "      <td>0.0</td>\n",
       "      <td>19.783333</td>\n",
       "    </tr>\n",
       "    <tr>\n",
       "      <th>3</th>\n",
       "      <td>8.66</td>\n",
       "      <td>38.7</td>\n",
       "      <td>1.0</td>\n",
       "      <td>0.5</td>\n",
       "      <td>8.24</td>\n",
       "      <td>0.0</td>\n",
       "      <td>1.0</td>\n",
       "      <td>49.44</td>\n",
       "      <td>1.0</td>\n",
       "      <td>1.0</td>\n",
       "      <td>0.0</td>\n",
       "      <td>26.900000</td>\n",
       "    </tr>\n",
       "    <tr>\n",
       "      <th>4</th>\n",
       "      <td>2.74</td>\n",
       "      <td>14.2</td>\n",
       "      <td>1.0</td>\n",
       "      <td>0.5</td>\n",
       "      <td>0.00</td>\n",
       "      <td>0.0</td>\n",
       "      <td>1.0</td>\n",
       "      <td>16.70</td>\n",
       "      <td>2.0</td>\n",
       "      <td>1.0</td>\n",
       "      <td>0.0</td>\n",
       "      <td>8.650000</td>\n",
       "    </tr>\n",
       "  </tbody>\n",
       "</table>\n",
       "</div>"
      ],
      "text/plain": [
       "   trip_distance  fare_amount  extra  mta_tax  tip_amount  tolls_amount  \\\n",
       "0           4.80         22.6    1.0      0.5        5.02           0.0   \n",
       "1           3.60         19.1    1.0      1.5        4.30           0.0   \n",
       "2           2.07         18.4    1.0      0.5        0.00           0.0   \n",
       "3           8.66         38.7    1.0      0.5        8.24           0.0   \n",
       "4           2.74         14.2    1.0      0.5        0.00           0.0   \n",
       "\n",
       "   improvement_surcharge  total_amount  payment_type  trip_type  \\\n",
       "0                    1.0         30.12           1.0        1.0   \n",
       "1                    1.0         25.90           1.0        1.0   \n",
       "2                    1.0         20.90           2.0        1.0   \n",
       "3                    1.0         49.44           1.0        1.0   \n",
       "4                    1.0         16.70           2.0        1.0   \n",
       "\n",
       "   congestion_surcharge  trip_duration  \n",
       "0                   0.0      15.183333  \n",
       "1                   0.0      13.316667  \n",
       "2                   0.0      19.783333  \n",
       "3                   0.0      26.900000  \n",
       "4                   0.0       8.650000  "
      ]
     },
     "execution_count": 102,
     "metadata": {},
     "output_type": "execute_result"
    }
   ],
   "source": [
    "numcols.head()"
   ]
  },
  {
   "cell_type": "code",
   "execution_count": 89,
   "id": "8a956784",
   "metadata": {},
   "outputs": [],
   "source": [
    "objcols = greentaxi_df[['store_and_fwd_flag', 'RatecodeID',\n",
    "       'passenger_count', 'payment_type', 'trip_type','weekday', 'hourofday']]"
   ]
  },
  {
   "cell_type": "code",
   "execution_count": 90,
   "id": "a9a0a969",
   "metadata": {},
   "outputs": [
    {
     "data": {
      "text/html": [
       "<div>\n",
       "<style scoped>\n",
       "    .dataframe tbody tr th:only-of-type {\n",
       "        vertical-align: middle;\n",
       "    }\n",
       "\n",
       "    .dataframe tbody tr th {\n",
       "        vertical-align: top;\n",
       "    }\n",
       "\n",
       "    .dataframe thead th {\n",
       "        text-align: right;\n",
       "    }\n",
       "</style>\n",
       "<table border=\"1\" class=\"dataframe\">\n",
       "  <thead>\n",
       "    <tr style=\"text-align: right;\">\n",
       "      <th></th>\n",
       "      <th>store_and_fwd_flag</th>\n",
       "      <th>RatecodeID</th>\n",
       "      <th>passenger_count</th>\n",
       "      <th>payment_type</th>\n",
       "      <th>trip_type</th>\n",
       "      <th>weekday</th>\n",
       "      <th>hourofday</th>\n",
       "    </tr>\n",
       "  </thead>\n",
       "  <tbody>\n",
       "    <tr>\n",
       "      <th>0</th>\n",
       "      <td>N</td>\n",
       "      <td>1.0</td>\n",
       "      <td>1.0</td>\n",
       "      <td>1.0</td>\n",
       "      <td>1.0</td>\n",
       "      <td>4</td>\n",
       "      <td>0</td>\n",
       "    </tr>\n",
       "    <tr>\n",
       "      <th>1</th>\n",
       "      <td>N</td>\n",
       "      <td>1.0</td>\n",
       "      <td>2.0</td>\n",
       "      <td>1.0</td>\n",
       "      <td>1.0</td>\n",
       "      <td>4</td>\n",
       "      <td>0</td>\n",
       "    </tr>\n",
       "    <tr>\n",
       "      <th>2</th>\n",
       "      <td>N</td>\n",
       "      <td>1.0</td>\n",
       "      <td>1.0</td>\n",
       "      <td>2.0</td>\n",
       "      <td>1.0</td>\n",
       "      <td>4</td>\n",
       "      <td>0</td>\n",
       "    </tr>\n",
       "    <tr>\n",
       "      <th>3</th>\n",
       "      <td>N</td>\n",
       "      <td>1.0</td>\n",
       "      <td>1.0</td>\n",
       "      <td>1.0</td>\n",
       "      <td>1.0</td>\n",
       "      <td>4</td>\n",
       "      <td>0</td>\n",
       "    </tr>\n",
       "    <tr>\n",
       "      <th>4</th>\n",
       "      <td>N</td>\n",
       "      <td>1.0</td>\n",
       "      <td>1.0</td>\n",
       "      <td>2.0</td>\n",
       "      <td>1.0</td>\n",
       "      <td>4</td>\n",
       "      <td>1</td>\n",
       "    </tr>\n",
       "  </tbody>\n",
       "</table>\n",
       "</div>"
      ],
      "text/plain": [
       "  store_and_fwd_flag  RatecodeID  passenger_count  payment_type  trip_type  \\\n",
       "0                  N         1.0              1.0           1.0        1.0   \n",
       "1                  N         1.0              2.0           1.0        1.0   \n",
       "2                  N         1.0              1.0           2.0        1.0   \n",
       "3                  N         1.0              1.0           1.0        1.0   \n",
       "4                  N         1.0              1.0           2.0        1.0   \n",
       "\n",
       "   weekday  hourofday  \n",
       "0        4          0  \n",
       "1        4          0  \n",
       "2        4          0  \n",
       "3        4          0  \n",
       "4        4          1  "
      ]
     },
     "execution_count": 90,
     "metadata": {},
     "output_type": "execute_result"
    }
   ],
   "source": [
    "objcols.head()"
   ]
  },
  {
   "cell_type": "code",
   "execution_count": 91,
   "id": "cc6895b1",
   "metadata": {},
   "outputs": [],
   "source": [
    "### Do the dummyencoding for categorical columns\n",
    "objcols_dum = pd.get_dummies(objcols, columns=['store_and_fwd_flag', 'RatecodeID',\n",
    "       'passenger_count', 'payment_type', 'trip_type','weekday', 'hourofday'])"
   ]
  },
  {
   "cell_type": "code",
   "execution_count": 123,
   "id": "857426f1",
   "metadata": {},
   "outputs": [],
   "source": [
    "## Data Seperation\n",
    "greentaxi_df_clean= pd.concat([numcols,objcols_dum], axis=1)"
   ]
  },
  {
   "cell_type": "code",
   "execution_count": 124,
   "id": "a35ece08",
   "metadata": {},
   "outputs": [],
   "source": [
    "y = greentaxi_df_clean.total_amount\n",
    "X = greentaxi_df_clean.drop('total_amount', axis=1)"
   ]
  },
  {
   "cell_type": "code",
   "execution_count": 125,
   "id": "54ebaec0",
   "metadata": {},
   "outputs": [
    {
     "data": {
      "text/plain": [
       "<Axes: xlabel='total_amount', ylabel='Count'>"
      ]
     },
     "execution_count": 125,
     "metadata": {},
     "output_type": "execute_result"
    },
    {
     "data": {
      "text/plain": [
       "<Figure size 3000x1800 with 0 Axes>"
      ]
     },
     "metadata": {},
     "output_type": "display_data"
    },
    {
     "data": {
      "image/png": "[encoded data removed]",
      "text/plain": [
       "<Figure size 640x480 with 3 Axes>"
      ]
     },
     "metadata": {},
     "output_type": "display_data"
    }
   ],
   "source": [
    "## Visualization plots of bar hist, and box plot for y \n",
    "plt.figure(figsize=(30,18))\n",
    "fig,ax=plt.subplots(3,1)\n",
    "sns.kdeplot(y,ax=ax[0])\n",
    "sns.boxplot(y,orient='h', ax=ax[1])\n",
    "sns.histplot(y, ax=ax[2])"
   ]
  },
  {
   "cell_type": "code",
   "execution_count": 126,
   "id": "3b028946",
   "metadata": {},
   "outputs": [
    {
     "data": {
      "text/plain": [
       "<Axes: ylabel='Density'>"
      ]
     },
     "execution_count": 126,
     "metadata": {},
     "output_type": "execute_result"
    },
    {
     "data": {
      "image/png": "[encoded data removed]",
      "text/plain": [
       "<Figure size 640x480 with 1 Axes>"
      ]
     },
     "metadata": {},
     "output_type": "display_data"
    }
   ],
   "source": [
    "y.plot(kind='density')"
   ]
  },
  {
   "cell_type": "code",
   "execution_count": 127,
   "id": "91e9afc0",
   "metadata": {},
   "outputs": [
    {
     "name": "stderr",
     "output_type": "stream",
     "text": [
      "C:\\Users\\hp\\Downloads\\Anaconda3 nav\\Lib\\site-packages\\pandas\\core\\arraylike.py:396: RuntimeWarning: divide by zero encountered in log\n",
      "  result = getattr(ufunc, method)(*inputs, **kwargs)\n",
      "C:\\Users\\hp\\Downloads\\Anaconda3 nav\\Lib\\site-packages\\pandas\\core\\arraylike.py:396: RuntimeWarning: invalid value encountered in log\n",
      "  result = getattr(ufunc, method)(*inputs, **kwargs)\n",
      "C:\\Users\\hp\\Downloads\\Anaconda3 nav\\Lib\\site-packages\\pandas\\core\\arraylike.py:396: RuntimeWarning: divide by zero encountered in log\n",
      "  result = getattr(ufunc, method)(*inputs, **kwargs)\n",
      "C:\\Users\\hp\\Downloads\\Anaconda3 nav\\Lib\\site-packages\\pandas\\core\\arraylike.py:396: RuntimeWarning: invalid value encountered in log\n",
      "  result = getattr(ufunc, method)(*inputs, **kwargs)\n",
      "C:\\Users\\hp\\Downloads\\Anaconda3 nav\\Lib\\site-packages\\pandas\\core\\arraylike.py:396: RuntimeWarning: divide by zero encountered in log\n",
      "  result = getattr(ufunc, method)(*inputs, **kwargs)\n",
      "C:\\Users\\hp\\Downloads\\Anaconda3 nav\\Lib\\site-packages\\pandas\\core\\arraylike.py:396: RuntimeWarning: invalid value encountered in log\n",
      "  result = getattr(ufunc, method)(*inputs, **kwargs)\n"
     ]
    },
    {
     "data": {
      "text/plain": [
       "<Axes: xlabel='total_amount', ylabel='Count'>"
      ]
     },
     "execution_count": 127,
     "metadata": {},
     "output_type": "execute_result"
    },
    {
     "data": {
      "text/plain": [
       "<Figure size 3000x1800 with 0 Axes>"
      ]
     },
     "metadata": {},
     "output_type": "display_data"
    },
    {
     "data": {
      "image/png": "[encoded data removed]",
      "text/plain": [
       "<Figure size 640x480 with 3 Axes>"
      ]
     },
     "metadata": {},
     "output_type": "display_data"
    }
   ],
   "source": [
    "### Apply log transformation on dependent variable\n",
    "#hist,box,&density curve-y\n",
    "plt.figure(figsize=(30,18))\n",
    "fig,ax=plt.subplots(3,1)\n",
    "sns.kdeplot(np.log(y),ax=ax[0])\n",
    "sns.boxplot(np.log(y),orient='h',ax=ax[1])\n",
    "sns.histplot(np.log(y),ax=ax[2])\n",
    "#logarithm transformation"
   ]
  },
  {
   "cell_type": "code",
   "execution_count": 129,
   "id": "b265ea3c",
   "metadata": {},
   "outputs": [
    {
     "data": {
      "text/plain": [
       "<Axes: >"
      ]
     },
     "execution_count": 129,
     "metadata": {},
     "output_type": "execute_result"
    },
    {
     "data": {
      "image/png": "[encoded data removed]",
      "text/plain": [
       "<Figure size 3000x1500 with 2 Axes>"
      ]
     },
     "metadata": {},
     "output_type": "display_data"
    }
   ],
   "source": [
    "## Heat map \n",
    "plt.figure(figsize=(30,15))\n",
    "sns.heatmap(numcols.corr(),annot=True)"
   ]
  },
  {
   "cell_type": "markdown",
   "id": "82258a35",
   "metadata": {},
   "source": [
    "### Linear Regression"
   ]
  },
  {
   "cell_type": "code",
   "execution_count": 130,
   "id": "71389f4b",
   "metadata": {},
   "outputs": [],
   "source": [
    "from sklearn.linear_model import LinearRegression"
   ]
  },
  {
   "cell_type": "code",
   "execution_count": 131,
   "id": "86b23993",
   "metadata": {},
   "outputs": [
    {
     "data": {
      "text/html": [
       "<style>#sk-container-id-2 {color: black;}#sk-container-id-2 pre{padding: 0;}#sk-container-id-2 div.sk-toggleable {background-color: white;}#sk-container-id-2 label.sk-toggleable__label {cursor: pointer;display: block;width: 100%;margin-bottom: 0;padding: 0.3em;box-sizing: border-box;text-align: center;}#sk-container-id-2 label.sk-toggleable__label-arrow:before {content: \"▸\";float: left;margin-right: 0.25em;color: #696969;}#sk-container-id-2 label.sk-toggleable__label-arrow:hover:before {color: black;}#sk-container-id-2 div.sk-estimator:hover label.sk-toggleable__label-arrow:before {color: black;}#sk-container-id-2 div.sk-toggleable__content {max-height: 0;max-width: 0;overflow: hidden;text-align: left;background-color: #f0f8ff;}#sk-container-id-2 div.sk-toggleable__content pre {margin: 0.2em;color: black;border-radius: 0.25em;background-color: #f0f8ff;}#sk-container-id-2 input.sk-toggleable__control:checked~div.sk-toggleable__content {max-height: 200px;max-width: 100%;overflow: auto;}#sk-container-id-2 input.sk-toggleable__control:checked~label.sk-toggleable__label-arrow:before {content: \"▾\";}#sk-container-id-2 div.sk-estimator input.sk-toggleable__control:checked~label.sk-toggleable__label {background-color: #d4ebff;}#sk-container-id-2 div.sk-label input.sk-toggleable__control:checked~label.sk-toggleable__label {background-color: #d4ebff;}#sk-container-id-2 input.sk-hidden--visually {border: 0;clip: rect(1px 1px 1px 1px);clip: rect(1px, 1px, 1px, 1px);height: 1px;margin: -1px;overflow: hidden;padding: 0;position: absolute;width: 1px;}#sk-container-id-2 div.sk-estimator {font-family: monospace;background-color: #f0f8ff;border: 1px dotted black;border-radius: 0.25em;box-sizing: border-box;margin-bottom: 0.5em;}#sk-container-id-2 div.sk-estimator:hover {background-color: #d4ebff;}#sk-container-id-2 div.sk-parallel-item::after {content: \"\";width: 100%;border-bottom: 1px solid gray;flex-grow: 1;}#sk-container-id-2 div.sk-label:hover label.sk-toggleable__label {background-color: #d4ebff;}#sk-container-id-2 div.sk-serial::before {content: \"\";position: absolute;border-left: 1px solid gray;box-sizing: border-box;top: 0;bottom: 0;left: 50%;z-index: 0;}#sk-container-id-2 div.sk-serial {display: flex;flex-direction: column;align-items: center;background-color: white;padding-right: 0.2em;padding-left: 0.2em;position: relative;}#sk-container-id-2 div.sk-item {position: relative;z-index: 1;}#sk-container-id-2 div.sk-parallel {display: flex;align-items: stretch;justify-content: center;background-color: white;position: relative;}#sk-container-id-2 div.sk-item::before, #sk-container-id-2 div.sk-parallel-item::before {content: \"\";position: absolute;border-left: 1px solid gray;box-sizing: border-box;top: 0;bottom: 0;left: 50%;z-index: -1;}#sk-container-id-2 div.sk-parallel-item {display: flex;flex-direction: column;z-index: 1;position: relative;background-color: white;}#sk-container-id-2 div.sk-parallel-item:first-child::after {align-self: flex-end;width: 50%;}#sk-container-id-2 div.sk-parallel-item:last-child::after {align-self: flex-start;width: 50%;}#sk-container-id-2 div.sk-parallel-item:only-child::after {width: 0;}#sk-container-id-2 div.sk-dashed-wrapped {border: 1px dashed gray;margin: 0 0.4em 0.5em 0.4em;box-sizing: border-box;padding-bottom: 0.4em;background-color: white;}#sk-container-id-2 div.sk-label label {font-family: monospace;font-weight: bold;display: inline-block;line-height: 1.2em;}#sk-container-id-2 div.sk-label-container {text-align: center;}#sk-container-id-2 div.sk-container {/* jupyter's `normalize.less` sets `[hidden] { display: none; }` but bootstrap.min.css set `[hidden] { display: none !important; }` so we also need the `!important` here to be able to override the default hidden behavior on the sphinx rendered scikit-learn.org. See: https://github.com/scikit-learn/scikit-learn/issues/21755 */display: inline-block !important;position: relative;}#sk-container-id-2 div.sk-text-repr-fallback {display: none;}</style><div id=\"sk-container-id-2\" class=\"sk-top-container\"><div class=\"sk-text-repr-fallback\"><pre>LinearRegression()</pre><b>In a Jupyter environment, please rerun this cell to show the HTML representation or trust the notebook. <br />On GitHub, the HTML representation is unable to render, please try loading this page with nbviewer.org.</b></div><div class=\"sk-container\" hidden><div class=\"sk-item\"><div class=\"sk-estimator sk-toggleable\"><input class=\"sk-toggleable__control sk-hidden--visually\" id=\"sk-estimator-id-2\" type=\"checkbox\" checked><label for=\"sk-estimator-id-2\" class=\"sk-toggleable__label sk-toggleable__label-arrow\">LinearRegression</label><div class=\"sk-toggleable__content\"><pre>LinearRegression()</pre></div></div></div></div></div>"
      ],
      "text/plain": [
       "LinearRegression()"
      ]
     },
     "execution_count": 131,
     "metadata": {},
     "output_type": "execute_result"
    }
   ],
   "source": [
    "linreg = LinearRegression()\n",
    "linreg"
   ]
  },
  {
   "cell_type": "code",
   "execution_count": 133,
   "id": "3330e800",
   "metadata": {},
   "outputs": [],
   "source": [
    "regmodel = linreg.fit(X,y)"
   ]
  },
  {
   "cell_type": "code",
   "execution_count": 134,
   "id": "e1862629",
   "metadata": {},
   "outputs": [
    {
     "data": {
      "text/plain": [
       "0.999560062042373"
      ]
     },
     "execution_count": 134,
     "metadata": {},
     "output_type": "execute_result"
    }
   ],
   "source": [
    "regmodel.score(X,y)"
   ]
  },
  {
   "cell_type": "code",
   "execution_count": 135,
   "id": "003f8b7f",
   "metadata": {},
   "outputs": [],
   "source": [
    "regpredict = regmodel.predict(X)"
   ]
  },
  {
   "cell_type": "code",
   "execution_count": 137,
   "id": "3ad623bb",
   "metadata": {},
   "outputs": [],
   "source": [
    "reg_resid = y - regpredict"
   ]
  },
  {
   "cell_type": "code",
   "execution_count": 138,
   "id": "2a93b69e",
   "metadata": {},
   "outputs": [
    {
     "data": {
      "text/plain": [
       "0.5123397210820665"
      ]
     },
     "execution_count": 138,
     "metadata": {},
     "output_type": "execute_result"
    }
   ],
   "source": [
    "np.sqrt(np.mean(reg_resid**2)) ## RMSE"
   ]
  },
  {
   "cell_type": "code",
   "execution_count": null,
   "id": "928e11ba",
   "metadata": {},
   "outputs": [],
   "source": []
  },
  {
   "cell_type": "code",
   "execution_count": null,
   "id": "a14a7122",
   "metadata": {},
   "outputs": [],
   "source": []
  },
  {
   "cell_type": "code",
   "execution_count": null,
   "id": "5659c1b1",
   "metadata": {},
   "outputs": [],
   "source": []
  }
 ],
 "metadata": {
  "kernelspec": {
   "display_name": "Python 3 (ipykernel)",
   "language": "python",
   "name": "python3"
  },
  "language_info": {
   "codemirror_mode": {
    "name": "ipython",
    "version": 3
   },
   "file_extension": ".py",
   "mimetype": "text/x-python",
   "name": "python",
   "nbconvert_exporter": "python",
   "pygments_lexer": "ipython3",
   "version": "3.11.5"
  }
 },
 "nbformat": 4,
 "nbformat_minor": 5
}
